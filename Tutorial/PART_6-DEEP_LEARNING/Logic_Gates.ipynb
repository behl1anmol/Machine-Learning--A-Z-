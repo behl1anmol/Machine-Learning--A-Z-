{
 "metadata": {
  "language_info": {
   "codemirror_mode": {
    "name": "ipython",
    "version": 3
   },
   "file_extension": ".py",
   "mimetype": "text/x-python",
   "name": "python",
   "nbconvert_exporter": "python",
   "pygments_lexer": "ipython3",
   "version": "3.6.8"
  },
  "orig_nbformat": 2,
  "kernelspec": {
   "name": "python368jvsc74a57bd068728d7be9a5a76296c79abf7c41d90cdf784fa0c0194161802e6ae060a73fe5",
   "display_name": "Python 3.6.8 64-bit ('base': conda)"
  },
  "metadata": {
   "interpreter": {
    "hash": "68728d7be9a5a76296c79abf7c41d90cdf784fa0c0194161802e6ae060a73fe5"
   }
  }
 },
 "nbformat": 4,
 "nbformat_minor": 2,
 "cells": [
  {
   "cell_type": "code",
   "execution_count": 505,
   "metadata": {},
   "outputs": [],
   "source": [
    "import numpy as np\n",
    "import matplotlib.pyplot as plt\n",
    "plt.style.use('seaborn-whitegrid')"
   ]
  },
  {
   "cell_type": "code",
   "execution_count": 506,
   "metadata": {},
   "outputs": [],
   "source": [
    "class Perceptron:\n",
    "    \n",
    "    def __init__(self,learning_rate=0.01, n_iters=1000):\n",
    "        self.activation_func = self.unit_step_func\n",
    "        self.lr = learning_rate\n",
    "        self.n_iters = n_iters\n",
    "        self.W = None\n",
    "        self.B = None\n",
    "\n",
    "    def unit_step_func(self, Z):\n",
    "        return np.where(Z>=0,1,0)\n",
    "    \n",
    "    def predict(self, X):\n",
    "        Z = np.dot(X, self.W) + self.B\n",
    "        Yp = self.activation_func(Z)\n",
    "        return Yp\n",
    "    \n",
    "    def fit(self, X, Y):\n",
    "        nSamples, nFeatures = X.shape\n",
    "\n",
    "        self.W = np.zeros(nFeatures)\n",
    "        self.B = 0\n",
    "\n",
    "        Ya = np.array([1 if i>0 else 0 for i in Y])\n",
    "\n",
    "        for i in range(self.n_iters):\n",
    "            for id, x in enumerate(X):\n",
    "                Z = np.dot(x, self.W) + self.B\n",
    "\n",
    "                Yp = self.activation_func(Z)\n",
    "                update = self.lr * (Ya[id]-Yp)\n",
    "                self.W = self.W + update*x\n",
    "                self.B = self.B + update\n",
    "        return self\n",
    "\n",
    "        \n",
    "    \n"
   ]
  },
  {
   "cell_type": "code",
   "execution_count": 507,
   "metadata": {},
   "outputs": [],
   "source": [
    "teacher = Perceptron(learning_rate = 0.01,n_iters = 1000)"
   ]
  },
  {
   "cell_type": "code",
   "execution_count": 508,
   "metadata": {},
   "outputs": [],
   "source": [
    "def modelAccuracy(Ya, Yp):\n",
    "    accuracy = np.sum(Ya == Yp) / len(Ya)\n",
    "    return accuracy*100"
   ]
  },
  {
   "cell_type": "code",
   "execution_count": 509,
   "metadata": {},
   "outputs": [],
   "source": [
    "from sklearn.model_selection import train_test_split"
   ]
  },
  {
   "cell_type": "code",
   "execution_count": 510,
   "metadata": {},
   "outputs": [],
   "source": [
    "def funcTrain(X,Y):\n",
    "    Xtrain, Xtest, Ytrain, Ytest = train_test_split(X,Y, test_size = 0.6,random_state=123)\n",
    "    learner = teacher.fit(Xtrain, Ytrain)\n",
    "    prediction = learner.predict(Xtest)\n",
    "    print(\"Accuracy:\",modelAccuracy(Ytest,prediction))\n",
    "    return learner"
   ]
  },
  {
   "cell_type": "code",
   "execution_count": 511,
   "metadata": {},
   "outputs": [],
   "source": [
    "def funcOR():\n",
    "    X = np.array([\n",
    "    [0,0,0],\n",
    "    [0,0,0],\n",
    "    [0,0,1],\n",
    "    [0,1,0],\n",
    "    [0,1,1],\n",
    "    [1,0,0],\n",
    "    [1,0,1],\n",
    "    [1,1,0],\n",
    "    [1,1,1],\n",
    "    [0,0,0],\n",
    "    [0,0,0]])\n",
    "    Y = np.array([0,0,1,1,1,1,1,1,1,0,0])\n",
    "    return funcTrain(X,Y)"
   ]
  },
  {
   "cell_type": "code",
   "execution_count": 512,
   "metadata": {},
   "outputs": [],
   "source": [
    "def funcAND():\n",
    "    X = np.array([\n",
    "    [1,1,1],\n",
    "    [1,1,1],\n",
    "    [0,0,1],\n",
    "    [0,1,0],\n",
    "    [0,1,1],\n",
    "    [1,0,0],\n",
    "    [1,0,1],\n",
    "    [1,1,0],\n",
    "    [1,1,1],\n",
    "    [0,0,0],\n",
    "    [1,1,1]])\n",
    "    Y = np.array([1,1,0,0,0,0,0,0,1,0,1])\n",
    "    return funcTrain(X,Y)"
   ]
  },
  {
   "cell_type": "code",
   "execution_count": 513,
   "metadata": {},
   "outputs": [],
   "source": [
    "def funcNOT():\n",
    "    X = np.array([[1],[0],[1],[0],[1],[0],[1],[0]])\n",
    "    Y = np.array([0,1,0,1,0,1,0,1])\n",
    "    return funcTrain(X,Y)"
   ]
  },
  {
   "cell_type": "code",
   "execution_count": 514,
   "metadata": {},
   "outputs": [],
   "source": [
    "def funcNAND():\n",
    "    X = np.array([\n",
    "    [1,1,1],\n",
    "    [1,1,1],\n",
    "    [0,0,1],\n",
    "    [0,1,0],\n",
    "    [0,1,1],\n",
    "    [1,0,0],\n",
    "    [1,0,1],\n",
    "    [1,1,0],\n",
    "    [1,1,1],\n",
    "    [1,1,1],\n",
    "    [1,1,1]])\n",
    "    Y = np.array([0,0,1,1,1,1,1,1,0,0,0])\n",
    "    return funcTrain(X,Y)"
   ]
  },
  {
   "cell_type": "code",
   "execution_count": 515,
   "metadata": {},
   "outputs": [],
   "source": [
    "def funcNOR():\n",
    "    X = np.array([\n",
    "    [0,0,0],\n",
    "    [0,0,0],\n",
    "    [0,0,0],\n",
    "    [0,1,0],\n",
    "    [0,1,1],\n",
    "    [1,0,0],\n",
    "    [1,0,1],\n",
    "    [1,1,0],\n",
    "    [1,1,1],\n",
    "    [0,0,0],\n",
    "    [0,0,0]])\n",
    "    Y = np.array([1,1,1,0,0,0,0,0,0,1,1])\n",
    "    return funcTrain(X,Y)"
   ]
  },
  {
   "cell_type": "code",
   "execution_count": 516,
   "metadata": {},
   "outputs": [],
   "source": [
    "  logicIp = [\n",
    "    [0,0,0],\n",
    "    [0,0,1],\n",
    "    [0,1,0],\n",
    "    [0,1,1],\n",
    "    [1,0,0],\n",
    "    [1,0,1],\n",
    "    [1,1,0],\n",
    "    [1,1,1],\n",
    "    ]"
   ]
  },
  {
   "cell_type": "code",
   "execution_count": 517,
   "metadata": {},
   "outputs": [
    {
     "output_type": "stream",
     "name": "stdout",
     "text": [
      "Accuracy: 85.71428571428571\n[0, 0, 0] | 0\n[0, 0, 1] | 1\n[0, 1, 0] | 0\n[0, 1, 1] | 1\n[1, 0, 0] | 1\n[1, 0, 1] | 1\n[1, 1, 0] | 1\n[1, 1, 1] | 1\n"
     ]
    }
   ],
   "source": [
    "OR = funcOR()\n",
    "for i in logicIp:\n",
    "    print(\"{} | {}\".format(i,OR.predict(i)))"
   ]
  },
  {
   "cell_type": "code",
   "execution_count": 518,
   "metadata": {},
   "outputs": [
    {
     "output_type": "stream",
     "name": "stdout",
     "text": [
      "Accuracy: 57.14285714285714\n[0, 0, 0] | 0\n[0, 0, 1] | 0\n[0, 1, 0] | 1\n[0, 1, 1] | 1\n[1, 0, 0] | 0\n[1, 0, 1] | 0\n[1, 1, 0] | 1\n[1, 1, 1] | 1\n"
     ]
    }
   ],
   "source": [
    "AND = funcAND()\n",
    "for i in logicIp:\n",
    "    print(\"{} | {}\".format(i,AND.predict(i)))"
   ]
  },
  {
   "cell_type": "code",
   "execution_count": 519,
   "metadata": {},
   "outputs": [
    {
     "output_type": "stream",
     "name": "stdout",
     "text": [
      "Accuracy: 100.0\n1 | [0]\n0 | [1]\n"
     ]
    }
   ],
   "source": [
    "NOT = funcNOT()\n",
    "print(\"{} | {}\".format(1,NOT.predict(1)))\n",
    "print(\"{} | {}\".format(0,NOT.predict(0)))"
   ]
  },
  {
   "cell_type": "code",
   "execution_count": 520,
   "metadata": {},
   "outputs": [
    {
     "output_type": "stream",
     "name": "stdout",
     "text": [
      "Accuracy: 57.14285714285714\n[0, 0, 0] | 1\n[0, 0, 1] | 1\n[0, 1, 0] | 0\n[0, 1, 1] | 0\n[1, 0, 0] | 1\n[1, 0, 1] | 1\n[1, 1, 0] | 0\n[1, 1, 1] | 0\n"
     ]
    }
   ],
   "source": [
    "NAND = funcNAND()\n",
    "for i in logicIp:\n",
    "    print(\"{} | {}\".format(i,NAND.predict(i)))"
   ]
  },
  {
   "cell_type": "code",
   "execution_count": 521,
   "metadata": {},
   "outputs": [
    {
     "output_type": "stream",
     "name": "stdout",
     "text": [
      "Accuracy: 85.71428571428571\n[0, 0, 0] | 1\n[0, 0, 1] | 0\n[0, 1, 0] | 1\n[0, 1, 1] | 0\n[1, 0, 0] | 0\n[1, 0, 1] | 0\n[1, 1, 0] | 0\n[1, 1, 1] | 0\n"
     ]
    }
   ],
   "source": [
    "NOR = funcNOR()\n",
    "for i in logicIp:\n",
    "    print(\"{} | {}\".format(i,NOR.predict(i)))"
   ]
  },
  {
   "cell_type": "code",
   "execution_count": null,
   "metadata": {},
   "outputs": [],
   "source": []
  },
  {
   "cell_type": "code",
   "execution_count": null,
   "metadata": {},
   "outputs": [],
   "source": []
  },
  {
   "cell_type": "code",
   "execution_count": null,
   "metadata": {},
   "outputs": [],
   "source": []
  },
  {
   "cell_type": "code",
   "execution_count": null,
   "metadata": {},
   "outputs": [],
   "source": []
  },
  {
   "cell_type": "code",
   "execution_count": null,
   "metadata": {},
   "outputs": [],
   "source": []
  },
  {
   "cell_type": "code",
   "execution_count": null,
   "metadata": {},
   "outputs": [],
   "source": []
  }
 ]
}