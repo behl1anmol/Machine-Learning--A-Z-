{
 "metadata": {
  "language_info": {
   "codemirror_mode": {
    "name": "ipython",
    "version": 3
   },
   "file_extension": ".py",
   "mimetype": "text/x-python",
   "name": "python",
   "nbconvert_exporter": "python",
   "pygments_lexer": "ipython3",
   "version": "3.6.8-final"
  },
  "orig_nbformat": 2,
  "kernelspec": {
   "name": "python3",
   "display_name": "Python 3",
   "language": "python"
  }
 },
 "nbformat": 4,
 "nbformat_minor": 2,
 "cells": [
  {
   "source": [
    " # Pandas\n",
    "  It is an inbuilt library provided with Python and is a fast, flexible and easy to use data manipulation tool.\n",
    "\n",
    "  ## TOC:\n",
    "  <a href='#dictionary'>Reading from Dictionary</a> <br>\n",
    "  [Reading from a list of tuples](##tuples)\n"
   ],
   "cell_type": "code",
   "metadata": {},
   "execution_count": null,
   "outputs": []
  },
  {
   "cell_type": "code",
   "execution_count": 2,
   "metadata": {},
   "outputs": [],
   "source": [
    "import pandas as pd\n",
    "import numpy as np\n",
    "path = '/media/anmol/Study/GITHUB/Workshop_NIT_Meghalaya/Tutorial/PANDAS/melbourne_housing/melb_data.csv'"
   ]
  },
  {
   "source": [
    "## Reading from dictionary <a id = \"dictionary\"></a>"
   ],
   "cell_type": "markdown",
   "metadata": {}
  },
  {
   "cell_type": "code",
   "execution_count": 3,
   "metadata": {},
   "outputs": [
    {
     "output_type": "execute_result",
     "data": {
      "text/plain": [
       "    Name Age\n",
       "0   Jhon  12\n",
       "1  Harry  14\n",
       "2   Karl  13\n",
       "3   Amit  15"
      ],
      "text/html": "<div>\n<style scoped>\n    .dataframe tbody tr th:only-of-type {\n        vertical-align: middle;\n    }\n\n    .dataframe tbody tr th {\n        vertical-align: top;\n    }\n\n    .dataframe thead th {\n        text-align: right;\n    }\n</style>\n<table border=\"1\" class=\"dataframe\">\n  <thead>\n    <tr style=\"text-align: right;\">\n      <th></th>\n      <th>Name</th>\n      <th>Age</th>\n    </tr>\n  </thead>\n  <tbody>\n    <tr>\n      <th>0</th>\n      <td>Jhon</td>\n      <td>12</td>\n    </tr>\n    <tr>\n      <th>1</th>\n      <td>Harry</td>\n      <td>14</td>\n    </tr>\n    <tr>\n      <th>2</th>\n      <td>Karl</td>\n      <td>13</td>\n    </tr>\n    <tr>\n      <th>3</th>\n      <td>Amit</td>\n      <td>15</td>\n    </tr>\n  </tbody>\n</table>\n</div>"
     },
     "metadata": {},
     "execution_count": 3
    }
   ],
   "source": [
    "dic = {'Name':['Jhon','Harry','Karl','Amit'],'Age':['12','14','13','15']}\n",
    "#dictionary keys as columns\n",
    "dd_column = pd.DataFrame.from_dict(dic)\n",
    "dd_column"
   ]
  },
  {
   "cell_type": "code",
   "execution_count": 4,
   "metadata": {},
   "outputs": [
    {
     "output_type": "execute_result",
     "data": {
      "text/plain": [
       "        C1     C2    C3    C4\n",
       "Name  Jhon  Harry  Karl  Amit\n",
       "Age     12     14    13    15"
      ],
      "text/html": "<div>\n<style scoped>\n    .dataframe tbody tr th:only-of-type {\n        vertical-align: middle;\n    }\n\n    .dataframe tbody tr th {\n        vertical-align: top;\n    }\n\n    .dataframe thead th {\n        text-align: right;\n    }\n</style>\n<table border=\"1\" class=\"dataframe\">\n  <thead>\n    <tr style=\"text-align: right;\">\n      <th></th>\n      <th>C1</th>\n      <th>C2</th>\n      <th>C3</th>\n      <th>C4</th>\n    </tr>\n  </thead>\n  <tbody>\n    <tr>\n      <th>Name</th>\n      <td>Jhon</td>\n      <td>Harry</td>\n      <td>Karl</td>\n      <td>Amit</td>\n    </tr>\n    <tr>\n      <th>Age</th>\n      <td>12</td>\n      <td>14</td>\n      <td>13</td>\n      <td>15</td>\n    </tr>\n  </tbody>\n</table>\n</div>"
     },
     "metadata": {},
     "execution_count": 4
    }
   ],
   "source": [
    "#dictionary keys as columns\n",
    "dd_rows = pd.DataFrame.from_dict(dic,orient='index',columns=['C1','C2','C3','C4'])\n",
    "dd_rows"
   ]
  },
  {
   "source": [
    "## Reading from a list of tuples <a id = \"tuples\"></a>\n",
    "-> Using DataFrame <br>\n",
    "-> Using from_records() <br>\n",
    "-> using from_items() <br>"
   ],
   "cell_type": "markdown",
   "metadata": {}
  },
  {
   "cell_type": "code",
   "execution_count": 27,
   "metadata": {},
   "outputs": [
    {
     "output_type": "execute_result",
     "data": {
      "text/plain": [
       "     Name  Age\n",
       "0    Jhon   12\n",
       "1  Jayson   13\n",
       "2   Harry   16\n",
       "3    Amit   17"
      ],
      "text/html": "<div>\n<style scoped>\n    .dataframe tbody tr th:only-of-type {\n        vertical-align: middle;\n    }\n\n    .dataframe tbody tr th {\n        vertical-align: top;\n    }\n\n    .dataframe thead th {\n        text-align: right;\n    }\n</style>\n<table border=\"1\" class=\"dataframe\">\n  <thead>\n    <tr style=\"text-align: right;\">\n      <th></th>\n      <th>Name</th>\n      <th>Age</th>\n    </tr>\n  </thead>\n  <tbody>\n    <tr>\n      <th>0</th>\n      <td>Jhon</td>\n      <td>12</td>\n    </tr>\n    <tr>\n      <th>1</th>\n      <td>Jayson</td>\n      <td>13</td>\n    </tr>\n    <tr>\n      <th>2</th>\n      <td>Harry</td>\n      <td>16</td>\n    </tr>\n    <tr>\n      <th>3</th>\n      <td>Amit</td>\n      <td>17</td>\n    </tr>\n  </tbody>\n</table>\n</div>"
     },
     "metadata": {},
     "execution_count": 27
    }
   ],
   "source": [
    "tup = [\n",
    "        ('Jhon',12),\n",
    "        ('Jayson',13),\n",
    "        ('Harry',16),\n",
    "        ('Amit',17)\n",
    "        ]\n",
    "\n",
    "#Using DataFrame\n",
    "tupD = pd.DataFrame(tup, columns = ['Name','Age'])\n",
    "tupD"
   ]
  },
  {
   "cell_type": "code",
   "execution_count": 29,
   "metadata": {},
   "outputs": [
    {
     "output_type": "execute_result",
     "data": {
      "text/plain": [
       "     Name  Age\n",
       "0    Jhon   12\n",
       "1  Jayson   13\n",
       "2   Harry   16\n",
       "3    Amit   17"
      ],
      "text/html": "<div>\n<style scoped>\n    .dataframe tbody tr th:only-of-type {\n        vertical-align: middle;\n    }\n\n    .dataframe tbody tr th {\n        vertical-align: top;\n    }\n\n    .dataframe thead th {\n        text-align: right;\n    }\n</style>\n<table border=\"1\" class=\"dataframe\">\n  <thead>\n    <tr style=\"text-align: right;\">\n      <th></th>\n      <th>Name</th>\n      <th>Age</th>\n    </tr>\n  </thead>\n  <tbody>\n    <tr>\n      <th>0</th>\n      <td>Jhon</td>\n      <td>12</td>\n    </tr>\n    <tr>\n      <th>1</th>\n      <td>Jayson</td>\n      <td>13</td>\n    </tr>\n    <tr>\n      <th>2</th>\n      <td>Harry</td>\n      <td>16</td>\n    </tr>\n    <tr>\n      <th>3</th>\n      <td>Amit</td>\n      <td>17</td>\n    </tr>\n  </tbody>\n</table>\n</div>"
     },
     "metadata": {},
     "execution_count": 29
    }
   ],
   "source": [
    "#Using from_records()\n",
    "tupR = pd.DataFrame.from_records(tup,columns=['Name','Age'])\n",
    "tupR"
   ]
  },
  {
   "cell_type": "code",
   "execution_count": 37,
   "metadata": {},
   "outputs": [
    {
     "output_type": "stream",
     "name": "stderr",
     "text": [
      "/home/anmol/anaconda3/lib/python3.6/site-packages/ipykernel_launcher.py:6: FutureWarning: from_items is deprecated. Please use DataFrame.from_dict(dict(items), ...) instead. DataFrame.from_dict(OrderedDict(items)) may be used to preserve the key order.\n  \n"
     ]
    },
    {
     "output_type": "execute_result",
     "data": {
      "text/plain": [
       "     Name  Age\n",
       "0    Jhon   12\n",
       "1  Jayson   13\n",
       "2   Harry   16\n",
       "3    Amit   17"
      ],
      "text/html": "<div>\n<style scoped>\n    .dataframe tbody tr th:only-of-type {\n        vertical-align: middle;\n    }\n\n    .dataframe tbody tr th {\n        vertical-align: top;\n    }\n\n    .dataframe thead th {\n        text-align: right;\n    }\n</style>\n<table border=\"1\" class=\"dataframe\">\n  <thead>\n    <tr style=\"text-align: right;\">\n      <th></th>\n      <th>Name</th>\n      <th>Age</th>\n    </tr>\n  </thead>\n  <tbody>\n    <tr>\n      <th>0</th>\n      <td>Jhon</td>\n      <td>12</td>\n    </tr>\n    <tr>\n      <th>1</th>\n      <td>Jayson</td>\n      <td>13</td>\n    </tr>\n    <tr>\n      <th>2</th>\n      <td>Harry</td>\n      <td>16</td>\n    </tr>\n    <tr>\n      <th>3</th>\n      <td>Amit</td>\n      <td>17</td>\n    </tr>\n  </tbody>\n</table>\n</div>"
     },
     "metadata": {},
     "execution_count": 37
    }
   ],
   "source": [
    "#Using from_items\n",
    "new_tup = [\n",
    "            ('Name',['Jhon','Jayson','Harry','Amit']),\n",
    "            ('Age',[12,13,16,17]),\n",
    "            ]\n",
    "tupI = pd.DataFrame.from_items(new_tup)\n",
    "tupI"
   ]
  },
  {
   "source": [
    "# Reading from CSV"
   ],
   "cell_type": "markdown",
   "metadata": {}
  },
  {
   "cell_type": "code",
   "execution_count": 6,
   "metadata": {},
   "outputs": [
    {
     "output_type": "execute_result",
     "data": {
      "text/plain": [
       "              Suburb           Address  Rooms Type      Price Method  \\\n",
       "0         Abbotsford      85 Turner St      2    h  1480000.0      S   \n",
       "1         Abbotsford   25 Bloomburg St      2    h  1035000.0      S   \n",
       "2         Abbotsford      5 Charles St      3    h  1465000.0     SP   \n",
       "3         Abbotsford  40 Federation La      3    h   850000.0     PI   \n",
       "4         Abbotsford       55a Park St      4    h  1600000.0     VB   \n",
       "...              ...               ...    ...  ...        ...    ...   \n",
       "13575  Wheelers Hill      12 Strada Cr      4    h  1245000.0      S   \n",
       "13576   Williamstown     77 Merrett Dr      3    h  1031000.0     SP   \n",
       "13577   Williamstown       83 Power St      3    h  1170000.0      S   \n",
       "13578   Williamstown      96 Verdon St      4    h  2500000.0     PI   \n",
       "13579     Yarraville        6 Agnes St      4    h  1285000.0     SP   \n",
       "\n",
       "        SellerG        Date  Distance  Postcode  ...  Bathroom  Car  Landsize  \\\n",
       "0        Biggin   3/12/2016       2.5    3067.0  ...       1.0  1.0     202.0   \n",
       "1        Biggin   4/02/2016       2.5    3067.0  ...       1.0  0.0     156.0   \n",
       "2        Biggin   4/03/2017       2.5    3067.0  ...       2.0  0.0     134.0   \n",
       "3        Biggin   4/03/2017       2.5    3067.0  ...       2.0  1.0      94.0   \n",
       "4        Nelson   4/06/2016       2.5    3067.0  ...       1.0  2.0     120.0   \n",
       "...         ...         ...       ...       ...  ...       ...  ...       ...   \n",
       "13575     Barry  26/08/2017      16.7    3150.0  ...       2.0  2.0     652.0   \n",
       "13576  Williams  26/08/2017       6.8    3016.0  ...       2.0  2.0     333.0   \n",
       "13577     Raine  26/08/2017       6.8    3016.0  ...       2.0  4.0     436.0   \n",
       "13578   Sweeney  26/08/2017       6.8    3016.0  ...       1.0  5.0     866.0   \n",
       "13579   Village  26/08/2017       6.3    3013.0  ...       1.0  1.0     362.0   \n",
       "\n",
       "       BuildingArea  YearBuilt  CouncilArea Lattitude  Longtitude  \\\n",
       "0               NaN        NaN        Yarra -37.79960   144.99840   \n",
       "1              79.0     1900.0        Yarra -37.80790   144.99340   \n",
       "2             150.0     1900.0        Yarra -37.80930   144.99440   \n",
       "3               NaN        NaN        Yarra -37.79690   144.99690   \n",
       "4             142.0     2014.0        Yarra -37.80720   144.99410   \n",
       "...             ...        ...          ...       ...         ...   \n",
       "13575           NaN     1981.0          NaN -37.90562   145.16761   \n",
       "13576         133.0     1995.0          NaN -37.85927   144.87904   \n",
       "13577           NaN     1997.0          NaN -37.85274   144.88738   \n",
       "13578         157.0     1920.0          NaN -37.85908   144.89299   \n",
       "13579         112.0     1920.0          NaN -37.81188   144.88449   \n",
       "\n",
       "                       Regionname Propertycount  \n",
       "0           Northern Metropolitan        4019.0  \n",
       "1           Northern Metropolitan        4019.0  \n",
       "2           Northern Metropolitan        4019.0  \n",
       "3           Northern Metropolitan        4019.0  \n",
       "4           Northern Metropolitan        4019.0  \n",
       "...                           ...           ...  \n",
       "13575  South-Eastern Metropolitan        7392.0  \n",
       "13576        Western Metropolitan        6380.0  \n",
       "13577        Western Metropolitan        6380.0  \n",
       "13578        Western Metropolitan        6380.0  \n",
       "13579        Western Metropolitan        6543.0  \n",
       "\n",
       "[13580 rows x 21 columns]"
      ],
      "text/html": "<div>\n<style scoped>\n    .dataframe tbody tr th:only-of-type {\n        vertical-align: middle;\n    }\n\n    .dataframe tbody tr th {\n        vertical-align: top;\n    }\n\n    .dataframe thead th {\n        text-align: right;\n    }\n</style>\n<table border=\"1\" class=\"dataframe\">\n  <thead>\n    <tr style=\"text-align: right;\">\n      <th></th>\n      <th>Suburb</th>\n      <th>Address</th>\n      <th>Rooms</th>\n      <th>Type</th>\n      <th>Price</th>\n      <th>Method</th>\n      <th>SellerG</th>\n      <th>Date</th>\n      <th>Distance</th>\n      <th>Postcode</th>\n      <th>...</th>\n      <th>Bathroom</th>\n      <th>Car</th>\n      <th>Landsize</th>\n      <th>BuildingArea</th>\n      <th>YearBuilt</th>\n      <th>CouncilArea</th>\n      <th>Lattitude</th>\n      <th>Longtitude</th>\n      <th>Regionname</th>\n      <th>Propertycount</th>\n    </tr>\n  </thead>\n  <tbody>\n    <tr>\n      <th>0</th>\n      <td>Abbotsford</td>\n      <td>85 Turner St</td>\n      <td>2</td>\n      <td>h</td>\n      <td>1480000.0</td>\n      <td>S</td>\n      <td>Biggin</td>\n      <td>3/12/2016</td>\n      <td>2.5</td>\n      <td>3067.0</td>\n      <td>...</td>\n      <td>1.0</td>\n      <td>1.0</td>\n      <td>202.0</td>\n      <td>NaN</td>\n      <td>NaN</td>\n      <td>Yarra</td>\n      <td>-37.79960</td>\n      <td>144.99840</td>\n      <td>Northern Metropolitan</td>\n      <td>4019.0</td>\n    </tr>\n    <tr>\n      <th>1</th>\n      <td>Abbotsford</td>\n      <td>25 Bloomburg St</td>\n      <td>2</td>\n      <td>h</td>\n      <td>1035000.0</td>\n      <td>S</td>\n      <td>Biggin</td>\n      <td>4/02/2016</td>\n      <td>2.5</td>\n      <td>3067.0</td>\n      <td>...</td>\n      <td>1.0</td>\n      <td>0.0</td>\n      <td>156.0</td>\n      <td>79.0</td>\n      <td>1900.0</td>\n      <td>Yarra</td>\n      <td>-37.80790</td>\n      <td>144.99340</td>\n      <td>Northern Metropolitan</td>\n      <td>4019.0</td>\n    </tr>\n    <tr>\n      <th>2</th>\n      <td>Abbotsford</td>\n      <td>5 Charles St</td>\n      <td>3</td>\n      <td>h</td>\n      <td>1465000.0</td>\n      <td>SP</td>\n      <td>Biggin</td>\n      <td>4/03/2017</td>\n      <td>2.5</td>\n      <td>3067.0</td>\n      <td>...</td>\n      <td>2.0</td>\n      <td>0.0</td>\n      <td>134.0</td>\n      <td>150.0</td>\n      <td>1900.0</td>\n      <td>Yarra</td>\n      <td>-37.80930</td>\n      <td>144.99440</td>\n      <td>Northern Metropolitan</td>\n      <td>4019.0</td>\n    </tr>\n    <tr>\n      <th>3</th>\n      <td>Abbotsford</td>\n      <td>40 Federation La</td>\n      <td>3</td>\n      <td>h</td>\n      <td>850000.0</td>\n      <td>PI</td>\n      <td>Biggin</td>\n      <td>4/03/2017</td>\n      <td>2.5</td>\n      <td>3067.0</td>\n      <td>...</td>\n      <td>2.0</td>\n      <td>1.0</td>\n      <td>94.0</td>\n      <td>NaN</td>\n      <td>NaN</td>\n      <td>Yarra</td>\n      <td>-37.79690</td>\n      <td>144.99690</td>\n      <td>Northern Metropolitan</td>\n      <td>4019.0</td>\n    </tr>\n    <tr>\n      <th>4</th>\n      <td>Abbotsford</td>\n      <td>55a Park St</td>\n      <td>4</td>\n      <td>h</td>\n      <td>1600000.0</td>\n      <td>VB</td>\n      <td>Nelson</td>\n      <td>4/06/2016</td>\n      <td>2.5</td>\n      <td>3067.0</td>\n      <td>...</td>\n      <td>1.0</td>\n      <td>2.0</td>\n      <td>120.0</td>\n      <td>142.0</td>\n      <td>2014.0</td>\n      <td>Yarra</td>\n      <td>-37.80720</td>\n      <td>144.99410</td>\n      <td>Northern Metropolitan</td>\n      <td>4019.0</td>\n    </tr>\n    <tr>\n      <th>5</th>\n      <td>Abbotsford</td>\n      <td>129 Charles St</td>\n      <td>2</td>\n      <td>h</td>\n      <td>941000.0</td>\n      <td>S</td>\n      <td>Jellis</td>\n      <td>7/05/2016</td>\n      <td>2.5</td>\n      <td>3067.0</td>\n      <td>...</td>\n      <td>1.0</td>\n      <td>0.0</td>\n      <td>181.0</td>\n      <td>NaN</td>\n      <td>NaN</td>\n      <td>Yarra</td>\n      <td>-37.80410</td>\n      <td>144.99530</td>\n      <td>Northern Metropolitan</td>\n      <td>4019.0</td>\n    </tr>\n    <tr>\n      <th>6</th>\n      <td>Abbotsford</td>\n      <td>124 Yarra St</td>\n      <td>3</td>\n      <td>h</td>\n      <td>1876000.0</td>\n      <td>S</td>\n      <td>Nelson</td>\n      <td>7/05/2016</td>\n      <td>2.5</td>\n      <td>3067.0</td>\n      <td>...</td>\n      <td>2.0</td>\n      <td>0.0</td>\n      <td>245.0</td>\n      <td>210.0</td>\n      <td>1910.0</td>\n      <td>Yarra</td>\n      <td>-37.80240</td>\n      <td>144.99930</td>\n      <td>Northern Metropolitan</td>\n      <td>4019.0</td>\n    </tr>\n    <tr>\n      <th>7</th>\n      <td>Abbotsford</td>\n      <td>98 Charles St</td>\n      <td>2</td>\n      <td>h</td>\n      <td>1636000.0</td>\n      <td>S</td>\n      <td>Nelson</td>\n      <td>8/10/2016</td>\n      <td>2.5</td>\n      <td>3067.0</td>\n      <td>...</td>\n      <td>1.0</td>\n      <td>2.0</td>\n      <td>256.0</td>\n      <td>107.0</td>\n      <td>1890.0</td>\n      <td>Yarra</td>\n      <td>-37.80600</td>\n      <td>144.99540</td>\n      <td>Northern Metropolitan</td>\n      <td>4019.0</td>\n    </tr>\n    <tr>\n      <th>8</th>\n      <td>Abbotsford</td>\n      <td>6/241 Nicholson St</td>\n      <td>1</td>\n      <td>u</td>\n      <td>300000.0</td>\n      <td>S</td>\n      <td>Biggin</td>\n      <td>8/10/2016</td>\n      <td>2.5</td>\n      <td>3067.0</td>\n      <td>...</td>\n      <td>1.0</td>\n      <td>1.0</td>\n      <td>0.0</td>\n      <td>NaN</td>\n      <td>NaN</td>\n      <td>Yarra</td>\n      <td>-37.80080</td>\n      <td>144.99730</td>\n      <td>Northern Metropolitan</td>\n      <td>4019.0</td>\n    </tr>\n    <tr>\n      <th>9</th>\n      <td>Abbotsford</td>\n      <td>10 Valiant St</td>\n      <td>2</td>\n      <td>h</td>\n      <td>1097000.0</td>\n      <td>S</td>\n      <td>Biggin</td>\n      <td>8/10/2016</td>\n      <td>2.5</td>\n      <td>3067.0</td>\n      <td>...</td>\n      <td>1.0</td>\n      <td>2.0</td>\n      <td>220.0</td>\n      <td>75.0</td>\n      <td>1900.0</td>\n      <td>Yarra</td>\n      <td>-37.80100</td>\n      <td>144.99890</td>\n      <td>Northern Metropolitan</td>\n      <td>4019.0</td>\n    </tr>\n    <tr>\n      <th>10</th>\n      <td>Abbotsford</td>\n      <td>411/8 Grosvenor St</td>\n      <td>2</td>\n      <td>u</td>\n      <td>700000.0</td>\n      <td>VB</td>\n      <td>Jellis</td>\n      <td>12/11/2016</td>\n      <td>2.5</td>\n      <td>3067.0</td>\n      <td>...</td>\n      <td>2.0</td>\n      <td>1.0</td>\n      <td>0.0</td>\n      <td>NaN</td>\n      <td>NaN</td>\n      <td>Yarra</td>\n      <td>-37.81100</td>\n      <td>145.00670</td>\n      <td>Northern Metropolitan</td>\n      <td>4019.0</td>\n    </tr>\n    <tr>\n      <th>11</th>\n      <td>Abbotsford</td>\n      <td>40 Nicholson St</td>\n      <td>3</td>\n      <td>h</td>\n      <td>1350000.0</td>\n      <td>VB</td>\n      <td>Nelson</td>\n      <td>12/11/2016</td>\n      <td>2.5</td>\n      <td>3067.0</td>\n      <td>...</td>\n      <td>2.0</td>\n      <td>2.0</td>\n      <td>214.0</td>\n      <td>190.0</td>\n      <td>2005.0</td>\n      <td>Yarra</td>\n      <td>-37.80850</td>\n      <td>144.99640</td>\n      <td>Northern Metropolitan</td>\n      <td>4019.0</td>\n    </tr>\n    <tr>\n      <th>12</th>\n      <td>Abbotsford</td>\n      <td>123/56 Nicholson St</td>\n      <td>2</td>\n      <td>u</td>\n      <td>750000.0</td>\n      <td>S</td>\n      <td>Biggin</td>\n      <td>12/11/2016</td>\n      <td>2.5</td>\n      <td>3067.0</td>\n      <td>...</td>\n      <td>2.0</td>\n      <td>1.0</td>\n      <td>0.0</td>\n      <td>94.0</td>\n      <td>2009.0</td>\n      <td>Yarra</td>\n      <td>-37.80780</td>\n      <td>144.99650</td>\n      <td>Northern Metropolitan</td>\n      <td>4019.0</td>\n    </tr>\n    <tr>\n      <th>13</th>\n      <td>Abbotsford</td>\n      <td>45 William St</td>\n      <td>2</td>\n      <td>h</td>\n      <td>1172500.0</td>\n      <td>S</td>\n      <td>Biggin</td>\n      <td>13/08/2016</td>\n      <td>2.5</td>\n      <td>3067.0</td>\n      <td>...</td>\n      <td>1.0</td>\n      <td>1.0</td>\n      <td>195.0</td>\n      <td>NaN</td>\n      <td>NaN</td>\n      <td>Yarra</td>\n      <td>-37.80840</td>\n      <td>144.99730</td>\n      <td>Northern Metropolitan</td>\n      <td>4019.0</td>\n    </tr>\n    <tr>\n      <th>14</th>\n      <td>Abbotsford</td>\n      <td>7/20 Abbotsford St</td>\n      <td>1</td>\n      <td>u</td>\n      <td>441000.0</td>\n      <td>SP</td>\n      <td>Greg</td>\n      <td>14/05/2016</td>\n      <td>2.5</td>\n      <td>3067.0</td>\n      <td>...</td>\n      <td>1.0</td>\n      <td>1.0</td>\n      <td>0.0</td>\n      <td>NaN</td>\n      <td>NaN</td>\n      <td>Yarra</td>\n      <td>-37.80160</td>\n      <td>144.99880</td>\n      <td>Northern Metropolitan</td>\n      <td>4019.0</td>\n    </tr>\n    <tr>\n      <th>15</th>\n      <td>Abbotsford</td>\n      <td>16 William St</td>\n      <td>2</td>\n      <td>h</td>\n      <td>1310000.0</td>\n      <td>S</td>\n      <td>Jellis</td>\n      <td>15/10/2016</td>\n      <td>2.5</td>\n      <td>3067.0</td>\n      <td>...</td>\n      <td>1.0</td>\n      <td>2.0</td>\n      <td>238.0</td>\n      <td>97.0</td>\n      <td>1890.0</td>\n      <td>Yarra</td>\n      <td>-37.80900</td>\n      <td>144.99760</td>\n      <td>Northern Metropolitan</td>\n      <td>4019.0</td>\n    </tr>\n    <tr>\n      <th>16</th>\n      <td>Abbotsford</td>\n      <td>42 Henry St</td>\n      <td>3</td>\n      <td>h</td>\n      <td>1200000.0</td>\n      <td>S</td>\n      <td>Jellis</td>\n      <td>16/07/2016</td>\n      <td>2.5</td>\n      <td>3067.0</td>\n      <td>...</td>\n      <td>2.0</td>\n      <td>1.0</td>\n      <td>113.0</td>\n      <td>110.0</td>\n      <td>1880.0</td>\n      <td>Yarra</td>\n      <td>-37.80560</td>\n      <td>144.99300</td>\n      <td>Northern Metropolitan</td>\n      <td>4019.0</td>\n    </tr>\n    <tr>\n      <th>17</th>\n      <td>Abbotsford</td>\n      <td>78 Yarra St</td>\n      <td>3</td>\n      <td>h</td>\n      <td>1176500.0</td>\n      <td>S</td>\n      <td>LITTLE</td>\n      <td>16/07/2016</td>\n      <td>2.5</td>\n      <td>3067.0</td>\n      <td>...</td>\n      <td>1.0</td>\n      <td>1.0</td>\n      <td>138.0</td>\n      <td>105.0</td>\n      <td>1890.0</td>\n      <td>Yarra</td>\n      <td>-37.80210</td>\n      <td>144.99650</td>\n      <td>Northern Metropolitan</td>\n      <td>4019.0</td>\n    </tr>\n    <tr>\n      <th>18</th>\n      <td>Abbotsford</td>\n      <td>196 Nicholson St</td>\n      <td>3</td>\n      <td>h</td>\n      <td>955000.0</td>\n      <td>S</td>\n      <td>Collins</td>\n      <td>17/09/2016</td>\n      <td>2.5</td>\n      <td>3067.0</td>\n      <td>...</td>\n      <td>1.0</td>\n      <td>0.0</td>\n      <td>183.0</td>\n      <td>NaN</td>\n      <td>NaN</td>\n      <td>Yarra</td>\n      <td>-37.80220</td>\n      <td>144.99750</td>\n      <td>Northern Metropolitan</td>\n      <td>4019.0</td>\n    </tr>\n    <tr>\n      <th>19</th>\n      <td>Abbotsford</td>\n      <td>42 Valiant St</td>\n      <td>2</td>\n      <td>h</td>\n      <td>890000.0</td>\n      <td>S</td>\n      <td>Biggin</td>\n      <td>17/09/2016</td>\n      <td>2.5</td>\n      <td>3067.0</td>\n      <td>...</td>\n      <td>1.0</td>\n      <td>1.0</td>\n      <td>150.0</td>\n      <td>73.0</td>\n      <td>1985.0</td>\n      <td>Yarra</td>\n      <td>-37.80110</td>\n      <td>145.00040</td>\n      <td>Northern Metropolitan</td>\n      <td>4019.0</td>\n    </tr>\n    <tr>\n      <th>20</th>\n      <td>Abbotsford</td>\n      <td>3/72 Charles St</td>\n      <td>4</td>\n      <td>h</td>\n      <td>1330000.0</td>\n      <td>PI</td>\n      <td>Kay</td>\n      <td>18/03/2017</td>\n      <td>2.5</td>\n      <td>3067.0</td>\n      <td>...</td>\n      <td>2.0</td>\n      <td>2.0</td>\n      <td>780.0</td>\n      <td>135.0</td>\n      <td>1900.0</td>\n      <td>Yarra</td>\n      <td>-37.80730</td>\n      <td>144.99520</td>\n      <td>Northern Metropolitan</td>\n      <td>4019.0</td>\n    </tr>\n    <tr>\n      <th>21</th>\n      <td>Abbotsford</td>\n      <td>13/11 Nicholson St</td>\n      <td>3</td>\n      <td>t</td>\n      <td>900000.0</td>\n      <td>S</td>\n      <td>Beller</td>\n      <td>18/03/2017</td>\n      <td>2.5</td>\n      <td>3067.0</td>\n      <td>...</td>\n      <td>2.0</td>\n      <td>2.0</td>\n      <td>0.0</td>\n      <td>NaN</td>\n      <td>2010.0</td>\n      <td>Yarra</td>\n      <td>-37.80930</td>\n      <td>144.99590</td>\n      <td>Northern Metropolitan</td>\n      <td>4019.0</td>\n    </tr>\n    <tr>\n      <th>22</th>\n      <td>Abbotsford</td>\n      <td>138/56 Nicholson St</td>\n      <td>3</td>\n      <td>u</td>\n      <td>1090000.0</td>\n      <td>S</td>\n      <td>Jellis</td>\n      <td>18/03/2017</td>\n      <td>2.5</td>\n      <td>3067.0</td>\n      <td>...</td>\n      <td>2.0</td>\n      <td>2.0</td>\n      <td>4290.0</td>\n      <td>27.0</td>\n      <td>NaN</td>\n      <td>Yarra</td>\n      <td>-37.80780</td>\n      <td>144.99650</td>\n      <td>Northern Metropolitan</td>\n      <td>4019.0</td>\n    </tr>\n    <tr>\n      <th>23</th>\n      <td>Abbotsford</td>\n      <td>6/219 Nicholson St</td>\n      <td>2</td>\n      <td>u</td>\n      <td>500000.0</td>\n      <td>S</td>\n      <td>Collins</td>\n      <td>18/06/2016</td>\n      <td>2.5</td>\n      <td>3067.0</td>\n      <td>...</td>\n      <td>1.0</td>\n      <td>1.0</td>\n      <td>0.0</td>\n      <td>60.0</td>\n      <td>1970.0</td>\n      <td>Yarra</td>\n      <td>-37.80150</td>\n      <td>144.99720</td>\n      <td>Northern Metropolitan</td>\n      <td>4019.0</td>\n    </tr>\n    <tr>\n      <th>24</th>\n      <td>Abbotsford</td>\n      <td>52a William St</td>\n      <td>2</td>\n      <td>h</td>\n      <td>1100000.0</td>\n      <td>PI</td>\n      <td>Biggin</td>\n      <td>18/06/2016</td>\n      <td>2.5</td>\n      <td>3067.0</td>\n      <td>...</td>\n      <td>2.0</td>\n      <td>1.0</td>\n      <td>124.0</td>\n      <td>135.0</td>\n      <td>2013.0</td>\n      <td>Yarra</td>\n      <td>-37.80790</td>\n      <td>144.99770</td>\n      <td>Northern Metropolitan</td>\n      <td>4019.0</td>\n    </tr>\n    <tr>\n      <th>25</th>\n      <td>Abbotsford</td>\n      <td>49 Park St</td>\n      <td>2</td>\n      <td>h</td>\n      <td>1315000.0</td>\n      <td>S</td>\n      <td>Marshall</td>\n      <td>19/11/2016</td>\n      <td>2.5</td>\n      <td>3067.0</td>\n      <td>...</td>\n      <td>1.0</td>\n      <td>0.0</td>\n      <td>147.0</td>\n      <td>85.0</td>\n      <td>1900.0</td>\n      <td>Yarra</td>\n      <td>-37.80800</td>\n      <td>144.99400</td>\n      <td>Northern Metropolitan</td>\n      <td>4019.0</td>\n    </tr>\n    <tr>\n      <th>26</th>\n      <td>Abbotsford</td>\n      <td>5/20 Abbotsford St</td>\n      <td>1</td>\n      <td>u</td>\n      <td>426000.0</td>\n      <td>SP</td>\n      <td>Greg</td>\n      <td>22/08/2016</td>\n      <td>2.5</td>\n      <td>3067.0</td>\n      <td>...</td>\n      <td>1.0</td>\n      <td>1.0</td>\n      <td>0.0</td>\n      <td>NaN</td>\n      <td>NaN</td>\n      <td>Yarra</td>\n      <td>-37.80160</td>\n      <td>144.99880</td>\n      <td>Northern Metropolitan</td>\n      <td>4019.0</td>\n    </tr>\n    <tr>\n      <th>27</th>\n      <td>Abbotsford</td>\n      <td>48 Abbotsford St</td>\n      <td>3</td>\n      <td>h</td>\n      <td>1447500.0</td>\n      <td>PI</td>\n      <td>Nelson</td>\n      <td>22/08/2016</td>\n      <td>2.5</td>\n      <td>3067.0</td>\n      <td>...</td>\n      <td>3.0</td>\n      <td>1.0</td>\n      <td>166.0</td>\n      <td>174.0</td>\n      <td>2012.0</td>\n      <td>Yarra</td>\n      <td>-37.80170</td>\n      <td>145.00010</td>\n      <td>Northern Metropolitan</td>\n      <td>4019.0</td>\n    </tr>\n    <tr>\n      <th>28</th>\n      <td>Abbotsford</td>\n      <td>116/56 Nicholson St</td>\n      <td>1</td>\n      <td>u</td>\n      <td>457000.0</td>\n      <td>S</td>\n      <td>Jellis</td>\n      <td>22/08/2016</td>\n      <td>2.5</td>\n      <td>3067.0</td>\n      <td>...</td>\n      <td>1.0</td>\n      <td>1.0</td>\n      <td>0.0</td>\n      <td>50.0</td>\n      <td>NaN</td>\n      <td>Yarra</td>\n      <td>-37.80780</td>\n      <td>144.99650</td>\n      <td>Northern Metropolitan</td>\n      <td>4019.0</td>\n    </tr>\n    <tr>\n      <th>29</th>\n      <td>Abbotsford</td>\n      <td>159 Park St</td>\n      <td>2</td>\n      <td>h</td>\n      <td>1135000.0</td>\n      <td>S</td>\n      <td>Nelson</td>\n      <td>22/08/2016</td>\n      <td>2.5</td>\n      <td>3067.0</td>\n      <td>...</td>\n      <td>2.0</td>\n      <td>2.0</td>\n      <td>98.0</td>\n      <td>128.0</td>\n      <td>1920.0</td>\n      <td>Yarra</td>\n      <td>-37.80050</td>\n      <td>144.99520</td>\n      <td>Northern Metropolitan</td>\n      <td>4019.0</td>\n    </tr>\n    <tr>\n      <th>...</th>\n      <td>...</td>\n      <td>...</td>\n      <td>...</td>\n      <td>...</td>\n      <td>...</td>\n      <td>...</td>\n      <td>...</td>\n      <td>...</td>\n      <td>...</td>\n      <td>...</td>\n      <td>...</td>\n      <td>...</td>\n      <td>...</td>\n      <td>...</td>\n      <td>...</td>\n      <td>...</td>\n      <td>...</td>\n      <td>...</td>\n      <td>...</td>\n      <td>...</td>\n      <td>...</td>\n    </tr>\n    <tr>\n      <th>13550</th>\n      <td>Sunshine North</td>\n      <td>5 Berkshire Rd</td>\n      <td>3</td>\n      <td>h</td>\n      <td>595000.0</td>\n      <td>SP</td>\n      <td>Barry</td>\n      <td>26/08/2017</td>\n      <td>10.5</td>\n      <td>3020.0</td>\n      <td>...</td>\n      <td>1.0</td>\n      <td>NaN</td>\n      <td>589.0</td>\n      <td>NaN</td>\n      <td>NaN</td>\n      <td>NaN</td>\n      <td>-37.76599</td>\n      <td>144.84445</td>\n      <td>Western Metropolitan</td>\n      <td>4217.0</td>\n    </tr>\n    <tr>\n      <th>13551</th>\n      <td>Sunshine West</td>\n      <td>24 Hilma St</td>\n      <td>4</td>\n      <td>h</td>\n      <td>682000.0</td>\n      <td>S</td>\n      <td>Barry</td>\n      <td>26/08/2017</td>\n      <td>10.5</td>\n      <td>3020.0</td>\n      <td>...</td>\n      <td>1.0</td>\n      <td>2.0</td>\n      <td>534.0</td>\n      <td>NaN</td>\n      <td>1970.0</td>\n      <td>NaN</td>\n      <td>-37.79161</td>\n      <td>144.80461</td>\n      <td>Western Metropolitan</td>\n      <td>6763.0</td>\n    </tr>\n    <tr>\n      <th>13552</th>\n      <td>Sunshine West</td>\n      <td>16 Mudford St</td>\n      <td>3</td>\n      <td>h</td>\n      <td>640000.0</td>\n      <td>S</td>\n      <td>Bells</td>\n      <td>26/08/2017</td>\n      <td>10.5</td>\n      <td>3020.0</td>\n      <td>...</td>\n      <td>1.0</td>\n      <td>1.0</td>\n      <td>616.0</td>\n      <td>NaN</td>\n      <td>NaN</td>\n      <td>NaN</td>\n      <td>-37.79798</td>\n      <td>144.81529</td>\n      <td>Western Metropolitan</td>\n      <td>6763.0</td>\n    </tr>\n    <tr>\n      <th>13553</th>\n      <td>Surrey Hills</td>\n      <td>20 Albert Cr</td>\n      <td>4</td>\n      <td>h</td>\n      <td>2720000.0</td>\n      <td>S</td>\n      <td>Kay</td>\n      <td>26/08/2017</td>\n      <td>10.2</td>\n      <td>3127.0</td>\n      <td>...</td>\n      <td>3.0</td>\n      <td>2.0</td>\n      <td>1005.0</td>\n      <td>NaN</td>\n      <td>1920.0</td>\n      <td>NaN</td>\n      <td>-37.82421</td>\n      <td>145.10352</td>\n      <td>Southern Metropolitan</td>\n      <td>5457.0</td>\n    </tr>\n    <tr>\n      <th>13554</th>\n      <td>Surrey Hills</td>\n      <td>46 Durham Rd</td>\n      <td>3</td>\n      <td>h</td>\n      <td>1715000.0</td>\n      <td>S</td>\n      <td>Noel</td>\n      <td>26/08/2017</td>\n      <td>10.2</td>\n      <td>3127.0</td>\n      <td>...</td>\n      <td>1.0</td>\n      <td>2.0</td>\n      <td>438.0</td>\n      <td>151.0</td>\n      <td>1906.0</td>\n      <td>NaN</td>\n      <td>-37.83015</td>\n      <td>145.09035</td>\n      <td>Southern Metropolitan</td>\n      <td>5457.0</td>\n    </tr>\n    <tr>\n      <th>13555</th>\n      <td>Surrey Hills</td>\n      <td>3 Oak St</td>\n      <td>4</td>\n      <td>h</td>\n      <td>3100000.0</td>\n      <td>VB</td>\n      <td>Marshall</td>\n      <td>26/08/2017</td>\n      <td>10.2</td>\n      <td>3127.0</td>\n      <td>...</td>\n      <td>2.0</td>\n      <td>3.0</td>\n      <td>832.0</td>\n      <td>NaN</td>\n      <td>NaN</td>\n      <td>NaN</td>\n      <td>-37.83564</td>\n      <td>145.10919</td>\n      <td>Southern Metropolitan</td>\n      <td>5457.0</td>\n    </tr>\n    <tr>\n      <th>13556</th>\n      <td>Tarneit</td>\n      <td>27 McMahon Cr</td>\n      <td>3</td>\n      <td>h</td>\n      <td>350000.0</td>\n      <td>VB</td>\n      <td>S&amp;L</td>\n      <td>26/08/2017</td>\n      <td>18.4</td>\n      <td>3029.0</td>\n      <td>...</td>\n      <td>1.0</td>\n      <td>1.0</td>\n      <td>466.0</td>\n      <td>103.0</td>\n      <td>2003.0</td>\n      <td>NaN</td>\n      <td>-37.86744</td>\n      <td>144.65609</td>\n      <td>Western Metropolitan</td>\n      <td>10160.0</td>\n    </tr>\n    <tr>\n      <th>13557</th>\n      <td>Templestowe</td>\n      <td>10 Hathaway Cl</td>\n      <td>4</td>\n      <td>h</td>\n      <td>1753000.0</td>\n      <td>S</td>\n      <td>Barry</td>\n      <td>26/08/2017</td>\n      <td>15.5</td>\n      <td>3106.0</td>\n      <td>...</td>\n      <td>2.0</td>\n      <td>2.0</td>\n      <td>689.0</td>\n      <td>NaN</td>\n      <td>2012.0</td>\n      <td>NaN</td>\n      <td>-37.76673</td>\n      <td>145.16555</td>\n      <td>Eastern Metropolitan</td>\n      <td>6202.0</td>\n    </tr>\n    <tr>\n      <th>13558</th>\n      <td>Templestowe Lower</td>\n      <td>20 Airds Rd</td>\n      <td>4</td>\n      <td>h</td>\n      <td>1745000.0</td>\n      <td>S</td>\n      <td>RT</td>\n      <td>26/08/2017</td>\n      <td>12.4</td>\n      <td>3107.0</td>\n      <td>...</td>\n      <td>2.0</td>\n      <td>2.0</td>\n      <td>741.0</td>\n      <td>NaN</td>\n      <td>NaN</td>\n      <td>NaN</td>\n      <td>-37.75843</td>\n      <td>145.10888</td>\n      <td>Eastern Metropolitan</td>\n      <td>5420.0</td>\n    </tr>\n    <tr>\n      <th>13559</th>\n      <td>Templestowe Lower</td>\n      <td>16 Benambra Dr</td>\n      <td>3</td>\n      <td>h</td>\n      <td>1190000.0</td>\n      <td>S</td>\n      <td>hockingstuart</td>\n      <td>26/08/2017</td>\n      <td>12.4</td>\n      <td>3107.0</td>\n      <td>...</td>\n      <td>1.0</td>\n      <td>1.0</td>\n      <td>723.0</td>\n      <td>NaN</td>\n      <td>NaN</td>\n      <td>NaN</td>\n      <td>-37.76684</td>\n      <td>145.11309</td>\n      <td>Eastern Metropolitan</td>\n      <td>5420.0</td>\n    </tr>\n    <tr>\n      <th>13560</th>\n      <td>Templestowe Lower</td>\n      <td>50 Caroline Dr</td>\n      <td>5</td>\n      <td>h</td>\n      <td>1400000.0</td>\n      <td>S</td>\n      <td>Barry</td>\n      <td>26/08/2017</td>\n      <td>12.4</td>\n      <td>3107.0</td>\n      <td>...</td>\n      <td>3.0</td>\n      <td>2.0</td>\n      <td>717.0</td>\n      <td>310.0</td>\n      <td>1963.0</td>\n      <td>NaN</td>\n      <td>-37.76630</td>\n      <td>145.11320</td>\n      <td>Eastern Metropolitan</td>\n      <td>5420.0</td>\n    </tr>\n    <tr>\n      <th>13561</th>\n      <td>Templestowe Lower</td>\n      <td>7 Dove Ct</td>\n      <td>4</td>\n      <td>h</td>\n      <td>1288000.0</td>\n      <td>S</td>\n      <td>Barry</td>\n      <td>26/08/2017</td>\n      <td>12.4</td>\n      <td>3107.0</td>\n      <td>...</td>\n      <td>2.0</td>\n      <td>2.0</td>\n      <td>948.0</td>\n      <td>NaN</td>\n      <td>NaN</td>\n      <td>NaN</td>\n      <td>-37.76078</td>\n      <td>145.10696</td>\n      <td>Eastern Metropolitan</td>\n      <td>5420.0</td>\n    </tr>\n    <tr>\n      <th>13562</th>\n      <td>Thornbury</td>\n      <td>7 Ballantyne St</td>\n      <td>3</td>\n      <td>h</td>\n      <td>1450000.0</td>\n      <td>S</td>\n      <td>Woodards</td>\n      <td>26/08/2017</td>\n      <td>7.0</td>\n      <td>3071.0</td>\n      <td>...</td>\n      <td>1.0</td>\n      <td>1.0</td>\n      <td>312.0</td>\n      <td>NaN</td>\n      <td>NaN</td>\n      <td>NaN</td>\n      <td>-37.75870</td>\n      <td>144.99966</td>\n      <td>Northern Metropolitan</td>\n      <td>8870.0</td>\n    </tr>\n    <tr>\n      <th>13563</th>\n      <td>Thornbury</td>\n      <td>201 Gooch St</td>\n      <td>3</td>\n      <td>h</td>\n      <td>1271000.0</td>\n      <td>S</td>\n      <td>Nelson</td>\n      <td>26/08/2017</td>\n      <td>7.0</td>\n      <td>3071.0</td>\n      <td>...</td>\n      <td>1.0</td>\n      <td>2.0</td>\n      <td>470.0</td>\n      <td>151.0</td>\n      <td>1950.0</td>\n      <td>NaN</td>\n      <td>-37.75937</td>\n      <td>145.01534</td>\n      <td>Northern Metropolitan</td>\n      <td>8870.0</td>\n    </tr>\n    <tr>\n      <th>13564</th>\n      <td>Tullamarine</td>\n      <td>7 Londrew Ct</td>\n      <td>3</td>\n      <td>h</td>\n      <td>540000.0</td>\n      <td>S</td>\n      <td>Barry</td>\n      <td>26/08/2017</td>\n      <td>12.9</td>\n      <td>3043.0</td>\n      <td>...</td>\n      <td>1.0</td>\n      <td>1.0</td>\n      <td>607.0</td>\n      <td>102.0</td>\n      <td>1970.0</td>\n      <td>NaN</td>\n      <td>-37.69423</td>\n      <td>144.88002</td>\n      <td>Western Metropolitan</td>\n      <td>3296.0</td>\n    </tr>\n    <tr>\n      <th>13565</th>\n      <td>Vermont</td>\n      <td>73 Nurlendi Rd</td>\n      <td>4</td>\n      <td>h</td>\n      <td>1263500.0</td>\n      <td>S</td>\n      <td>Barry</td>\n      <td>26/08/2017</td>\n      <td>17.2</td>\n      <td>3133.0</td>\n      <td>...</td>\n      <td>2.0</td>\n      <td>2.0</td>\n      <td>791.0</td>\n      <td>NaN</td>\n      <td>NaN</td>\n      <td>NaN</td>\n      <td>-37.84467</td>\n      <td>145.19276</td>\n      <td>Eastern Metropolitan</td>\n      <td>4181.0</td>\n    </tr>\n    <tr>\n      <th>13566</th>\n      <td>Vermont South</td>\n      <td>9 Winswood Cl</td>\n      <td>4</td>\n      <td>h</td>\n      <td>1250000.0</td>\n      <td>PI</td>\n      <td>Philip</td>\n      <td>26/08/2017</td>\n      <td>17.2</td>\n      <td>3133.0</td>\n      <td>...</td>\n      <td>2.0</td>\n      <td>2.0</td>\n      <td>986.0</td>\n      <td>NaN</td>\n      <td>NaN</td>\n      <td>NaN</td>\n      <td>-37.84679</td>\n      <td>145.20051</td>\n      <td>Eastern Metropolitan</td>\n      <td>4280.0</td>\n    </tr>\n    <tr>\n      <th>13567</th>\n      <td>Viewbank</td>\n      <td>149 Graham Rd</td>\n      <td>5</td>\n      <td>h</td>\n      <td>1316000.0</td>\n      <td>SP</td>\n      <td>Nelson</td>\n      <td>26/08/2017</td>\n      <td>8.9</td>\n      <td>3084.0</td>\n      <td>...</td>\n      <td>3.0</td>\n      <td>3.0</td>\n      <td>696.0</td>\n      <td>NaN</td>\n      <td>NaN</td>\n      <td>NaN</td>\n      <td>-37.73501</td>\n      <td>145.08341</td>\n      <td>Eastern Metropolitan</td>\n      <td>2698.0</td>\n    </tr>\n    <tr>\n      <th>13568</th>\n      <td>Wantirna</td>\n      <td>16 chesterfield Ct</td>\n      <td>4</td>\n      <td>h</td>\n      <td>951000.0</td>\n      <td>S</td>\n      <td>Ray</td>\n      <td>26/08/2017</td>\n      <td>14.7</td>\n      <td>3152.0</td>\n      <td>...</td>\n      <td>2.0</td>\n      <td>2.0</td>\n      <td>704.0</td>\n      <td>200.0</td>\n      <td>1981.0</td>\n      <td>NaN</td>\n      <td>-37.85639</td>\n      <td>145.23536</td>\n      <td>Eastern Metropolitan</td>\n      <td>5424.0</td>\n    </tr>\n    <tr>\n      <th>13569</th>\n      <td>Wantirna South</td>\n      <td>12 Armagh Cr</td>\n      <td>4</td>\n      <td>h</td>\n      <td>1323000.0</td>\n      <td>S</td>\n      <td>Barry</td>\n      <td>26/08/2017</td>\n      <td>14.7</td>\n      <td>3152.0</td>\n      <td>...</td>\n      <td>2.0</td>\n      <td>2.0</td>\n      <td>551.0</td>\n      <td>NaN</td>\n      <td>NaN</td>\n      <td>NaN</td>\n      <td>-37.87608</td>\n      <td>145.22390</td>\n      <td>Eastern Metropolitan</td>\n      <td>7082.0</td>\n    </tr>\n    <tr>\n      <th>13570</th>\n      <td>Wantirna South</td>\n      <td>34 Fewster Dr</td>\n      <td>3</td>\n      <td>h</td>\n      <td>970000.0</td>\n      <td>S</td>\n      <td>Barry</td>\n      <td>26/08/2017</td>\n      <td>14.7</td>\n      <td>3152.0</td>\n      <td>...</td>\n      <td>2.0</td>\n      <td>2.0</td>\n      <td>674.0</td>\n      <td>NaN</td>\n      <td>NaN</td>\n      <td>NaN</td>\n      <td>-37.88360</td>\n      <td>145.22805</td>\n      <td>Eastern Metropolitan</td>\n      <td>7082.0</td>\n    </tr>\n    <tr>\n      <th>13571</th>\n      <td>Wantirna South</td>\n      <td>15 Mara Cl</td>\n      <td>4</td>\n      <td>h</td>\n      <td>1330000.0</td>\n      <td>S</td>\n      <td>Barry</td>\n      <td>26/08/2017</td>\n      <td>14.7</td>\n      <td>3152.0</td>\n      <td>...</td>\n      <td>2.0</td>\n      <td>2.0</td>\n      <td>717.0</td>\n      <td>191.0</td>\n      <td>1980.0</td>\n      <td>NaN</td>\n      <td>-37.86887</td>\n      <td>145.22116</td>\n      <td>Eastern Metropolitan</td>\n      <td>7082.0</td>\n    </tr>\n    <tr>\n      <th>13572</th>\n      <td>Watsonia</td>\n      <td>76 Kenmare St</td>\n      <td>2</td>\n      <td>h</td>\n      <td>650000.0</td>\n      <td>PI</td>\n      <td>Morrison</td>\n      <td>26/08/2017</td>\n      <td>14.5</td>\n      <td>3087.0</td>\n      <td>...</td>\n      <td>1.0</td>\n      <td>1.0</td>\n      <td>210.0</td>\n      <td>79.0</td>\n      <td>2006.0</td>\n      <td>NaN</td>\n      <td>-37.70657</td>\n      <td>145.07878</td>\n      <td>Northern Metropolitan</td>\n      <td>2329.0</td>\n    </tr>\n    <tr>\n      <th>13573</th>\n      <td>Werribee</td>\n      <td>5 Nuragi Ct</td>\n      <td>4</td>\n      <td>h</td>\n      <td>635000.0</td>\n      <td>S</td>\n      <td>hockingstuart</td>\n      <td>26/08/2017</td>\n      <td>14.7</td>\n      <td>3030.0</td>\n      <td>...</td>\n      <td>2.0</td>\n      <td>1.0</td>\n      <td>662.0</td>\n      <td>172.0</td>\n      <td>1980.0</td>\n      <td>NaN</td>\n      <td>-37.89327</td>\n      <td>144.64789</td>\n      <td>Western Metropolitan</td>\n      <td>16166.0</td>\n    </tr>\n    <tr>\n      <th>13574</th>\n      <td>Westmeadows</td>\n      <td>9 Black St</td>\n      <td>3</td>\n      <td>h</td>\n      <td>582000.0</td>\n      <td>S</td>\n      <td>Red</td>\n      <td>26/08/2017</td>\n      <td>16.5</td>\n      <td>3049.0</td>\n      <td>...</td>\n      <td>2.0</td>\n      <td>2.0</td>\n      <td>256.0</td>\n      <td>NaN</td>\n      <td>NaN</td>\n      <td>NaN</td>\n      <td>-37.67917</td>\n      <td>144.89390</td>\n      <td>Northern Metropolitan</td>\n      <td>2474.0</td>\n    </tr>\n    <tr>\n      <th>13575</th>\n      <td>Wheelers Hill</td>\n      <td>12 Strada Cr</td>\n      <td>4</td>\n      <td>h</td>\n      <td>1245000.0</td>\n      <td>S</td>\n      <td>Barry</td>\n      <td>26/08/2017</td>\n      <td>16.7</td>\n      <td>3150.0</td>\n      <td>...</td>\n      <td>2.0</td>\n      <td>2.0</td>\n      <td>652.0</td>\n      <td>NaN</td>\n      <td>1981.0</td>\n      <td>NaN</td>\n      <td>-37.90562</td>\n      <td>145.16761</td>\n      <td>South-Eastern Metropolitan</td>\n      <td>7392.0</td>\n    </tr>\n    <tr>\n      <th>13576</th>\n      <td>Williamstown</td>\n      <td>77 Merrett Dr</td>\n      <td>3</td>\n      <td>h</td>\n      <td>1031000.0</td>\n      <td>SP</td>\n      <td>Williams</td>\n      <td>26/08/2017</td>\n      <td>6.8</td>\n      <td>3016.0</td>\n      <td>...</td>\n      <td>2.0</td>\n      <td>2.0</td>\n      <td>333.0</td>\n      <td>133.0</td>\n      <td>1995.0</td>\n      <td>NaN</td>\n      <td>-37.85927</td>\n      <td>144.87904</td>\n      <td>Western Metropolitan</td>\n      <td>6380.0</td>\n    </tr>\n    <tr>\n      <th>13577</th>\n      <td>Williamstown</td>\n      <td>83 Power St</td>\n      <td>3</td>\n      <td>h</td>\n      <td>1170000.0</td>\n      <td>S</td>\n      <td>Raine</td>\n      <td>26/08/2017</td>\n      <td>6.8</td>\n      <td>3016.0</td>\n      <td>...</td>\n      <td>2.0</td>\n      <td>4.0</td>\n      <td>436.0</td>\n      <td>NaN</td>\n      <td>1997.0</td>\n      <td>NaN</td>\n      <td>-37.85274</td>\n      <td>144.88738</td>\n      <td>Western Metropolitan</td>\n      <td>6380.0</td>\n    </tr>\n    <tr>\n      <th>13578</th>\n      <td>Williamstown</td>\n      <td>96 Verdon St</td>\n      <td>4</td>\n      <td>h</td>\n      <td>2500000.0</td>\n      <td>PI</td>\n      <td>Sweeney</td>\n      <td>26/08/2017</td>\n      <td>6.8</td>\n      <td>3016.0</td>\n      <td>...</td>\n      <td>1.0</td>\n      <td>5.0</td>\n      <td>866.0</td>\n      <td>157.0</td>\n      <td>1920.0</td>\n      <td>NaN</td>\n      <td>-37.85908</td>\n      <td>144.89299</td>\n      <td>Western Metropolitan</td>\n      <td>6380.0</td>\n    </tr>\n    <tr>\n      <th>13579</th>\n      <td>Yarraville</td>\n      <td>6 Agnes St</td>\n      <td>4</td>\n      <td>h</td>\n      <td>1285000.0</td>\n      <td>SP</td>\n      <td>Village</td>\n      <td>26/08/2017</td>\n      <td>6.3</td>\n      <td>3013.0</td>\n      <td>...</td>\n      <td>1.0</td>\n      <td>1.0</td>\n      <td>362.0</td>\n      <td>112.0</td>\n      <td>1920.0</td>\n      <td>NaN</td>\n      <td>-37.81188</td>\n      <td>144.88449</td>\n      <td>Western Metropolitan</td>\n      <td>6543.0</td>\n    </tr>\n  </tbody>\n</table>\n<p>13580 rows × 21 columns</p>\n</div>"
     },
     "metadata": {},
     "execution_count": 6
    }
   ],
   "source": [
    "df = pd.read_csv(path)\n",
    "df"
   ]
  },
  {
   "cell_type": "code",
   "execution_count": 7,
   "metadata": {},
   "outputs": [
    {
     "output_type": "execute_result",
     "data": {
      "text/plain": [
       "(13580, 21)"
      ]
     },
     "metadata": {},
     "execution_count": 7
    }
   ],
   "source": [
    "df.shape"
   ]
  },
  {
   "source": [
    "# Reteriving a row from the dataset"
   ],
   "cell_type": "markdown",
   "metadata": {}
  },
  {
   "source": [
    "df.loc[2]"
   ],
   "cell_type": "code",
   "metadata": {},
   "execution_count": 8,
   "outputs": [
    {
     "output_type": "execute_result",
     "data": {
      "text/plain": [
       "Suburb                      Abbotsford\n",
       "Address                   5 Charles St\n",
       "Rooms                                3\n",
       "Type                                 h\n",
       "Price                        1.465e+06\n",
       "Method                              SP\n",
       "SellerG                         Biggin\n",
       "Date                         4/03/2017\n",
       "Distance                           2.5\n",
       "Postcode                          3067\n",
       "Bedroom2                             3\n",
       "Bathroom                             2\n",
       "Car                                  0\n",
       "Landsize                           134\n",
       "BuildingArea                       150\n",
       "YearBuilt                         1900\n",
       "CouncilArea                      Yarra\n",
       "Lattitude                     -37.8093\n",
       "Longtitude                     144.994\n",
       "Regionname       Northern Metropolitan\n",
       "Propertycount                     4019\n",
       "Name: 2, dtype: object"
      ]
     },
     "metadata": {},
     "execution_count": 8
    }
   ]
  },
  {
   "cell_type": "code",
   "execution_count": 9,
   "metadata": {},
   "outputs": [
    {
     "output_type": "execute_result",
     "data": {
      "text/plain": [
       "Suburb                      Abbotsford\n",
       "Address                   5 Charles St\n",
       "Rooms                                3\n",
       "Type                                 h\n",
       "Price                        1.465e+06\n",
       "Method                              SP\n",
       "SellerG                         Biggin\n",
       "Date                         4/03/2017\n",
       "Distance                           2.5\n",
       "Postcode                          3067\n",
       "Bedroom2                             3\n",
       "Bathroom                             2\n",
       "Car                                  0\n",
       "Landsize                           134\n",
       "BuildingArea                       150\n",
       "YearBuilt                         1900\n",
       "CouncilArea                      Yarra\n",
       "Lattitude                     -37.8093\n",
       "Longtitude                     144.994\n",
       "Regionname       Northern Metropolitan\n",
       "Propertycount                     4019\n",
       "Name: 2, dtype: object"
      ]
     },
     "metadata": {},
     "execution_count": 9
    }
   ],
   "source": [
    "df.iloc[2]"
   ]
  },
  {
   "source": [
    "# Difference between loc and iloc\n",
    "loc gets rows with particular labels whereas iloc gets rows at integer locations"
   ],
   "cell_type": "markdown",
   "metadata": {}
  },
  {
   "cell_type": "code",
   "execution_count": 10,
   "metadata": {},
   "outputs": [
    {
     "output_type": "execute_result",
     "data": {
      "text/plain": [
       "9    p\n",
       "8    q\n",
       "2    r\n",
       "0    s\n",
       "1    t\n",
       "dtype: object"
      ]
     },
     "metadata": {},
     "execution_count": 10
    }
   ],
   "source": [
    "s = pd.Series(list(\"pqrst\"), index=[9,8,2,0,1])\n",
    "s"
   ]
  },
  {
   "cell_type": "code",
   "execution_count": 11,
   "metadata": {},
   "outputs": [
    {
     "output_type": "execute_result",
     "data": {
      "text/plain": [
       "'s'"
      ]
     },
     "metadata": {},
     "execution_count": 11
    }
   ],
   "source": [
    "s.loc[0]"
   ]
  },
  {
   "cell_type": "code",
   "execution_count": 12,
   "metadata": {},
   "outputs": [
    {
     "output_type": "execute_result",
     "data": {
      "text/plain": [
       "'p'"
      ]
     },
     "metadata": {},
     "execution_count": 12
    }
   ],
   "source": [
    "s.iloc[0]"
   ]
  },
  {
   "source": [
    "# Reteriving a column from the dataset"
   ],
   "cell_type": "markdown",
   "metadata": {}
  },
  {
   "cell_type": "code",
   "execution_count": 13,
   "metadata": {},
   "outputs": [
    {
     "output_type": "execute_result",
     "data": {
      "text/plain": [
       "Index(['Suburb', 'Address', 'Rooms', 'Type', 'Price', 'Method', 'SellerG',\n",
       "       'Date', 'Distance', 'Postcode', 'Bedroom2', 'Bathroom', 'Car',\n",
       "       'Landsize', 'BuildingArea', 'YearBuilt', 'CouncilArea', 'Lattitude',\n",
       "       'Longtitude', 'Regionname', 'Propertycount'],\n",
       "      dtype='object')"
      ]
     },
     "metadata": {},
     "execution_count": 13
    }
   ],
   "source": [
    "df.columns"
   ]
  },
  {
   "cell_type": "code",
   "execution_count": 14,
   "metadata": {},
   "outputs": [
    {
     "output_type": "execute_result",
     "data": {
      "text/plain": [
       "0           Abbotsford\n",
       "1           Abbotsford\n",
       "2           Abbotsford\n",
       "3           Abbotsford\n",
       "4           Abbotsford\n",
       "             ...      \n",
       "13575    Wheelers Hill\n",
       "13576     Williamstown\n",
       "13577     Williamstown\n",
       "13578     Williamstown\n",
       "13579       Yarraville\n",
       "Name: Suburb, Length: 13580, dtype: object"
      ]
     },
     "metadata": {},
     "execution_count": 14
    }
   ],
   "source": [
    "df[\"Suburb\"]"
   ]
  },
  {
   "source": [
    "# Displaying head and tail of dataset\n",
    "Default: 5 rows "
   ],
   "cell_type": "markdown",
   "metadata": {}
  },
  {
   "cell_type": "code",
   "execution_count": 15,
   "metadata": {},
   "outputs": [
    {
     "output_type": "execute_result",
     "data": {
      "text/plain": [
       "       Suburb           Address  Rooms Type      Price Method SellerG  \\\n",
       "0  Abbotsford      85 Turner St      2    h  1480000.0      S  Biggin   \n",
       "1  Abbotsford   25 Bloomburg St      2    h  1035000.0      S  Biggin   \n",
       "2  Abbotsford      5 Charles St      3    h  1465000.0     SP  Biggin   \n",
       "3  Abbotsford  40 Federation La      3    h   850000.0     PI  Biggin   \n",
       "4  Abbotsford       55a Park St      4    h  1600000.0     VB  Nelson   \n",
       "\n",
       "        Date  Distance  Postcode  ...  Bathroom  Car  Landsize  BuildingArea  \\\n",
       "0  3/12/2016       2.5    3067.0  ...       1.0  1.0     202.0           NaN   \n",
       "1  4/02/2016       2.5    3067.0  ...       1.0  0.0     156.0          79.0   \n",
       "2  4/03/2017       2.5    3067.0  ...       2.0  0.0     134.0         150.0   \n",
       "3  4/03/2017       2.5    3067.0  ...       2.0  1.0      94.0           NaN   \n",
       "4  4/06/2016       2.5    3067.0  ...       1.0  2.0     120.0         142.0   \n",
       "\n",
       "   YearBuilt  CouncilArea Lattitude  Longtitude             Regionname  \\\n",
       "0        NaN        Yarra  -37.7996    144.9984  Northern Metropolitan   \n",
       "1     1900.0        Yarra  -37.8079    144.9934  Northern Metropolitan   \n",
       "2     1900.0        Yarra  -37.8093    144.9944  Northern Metropolitan   \n",
       "3        NaN        Yarra  -37.7969    144.9969  Northern Metropolitan   \n",
       "4     2014.0        Yarra  -37.8072    144.9941  Northern Metropolitan   \n",
       "\n",
       "  Propertycount  \n",
       "0        4019.0  \n",
       "1        4019.0  \n",
       "2        4019.0  \n",
       "3        4019.0  \n",
       "4        4019.0  \n",
       "\n",
       "[5 rows x 21 columns]"
      ],
      "text/html": "<div>\n<style scoped>\n    .dataframe tbody tr th:only-of-type {\n        vertical-align: middle;\n    }\n\n    .dataframe tbody tr th {\n        vertical-align: top;\n    }\n\n    .dataframe thead th {\n        text-align: right;\n    }\n</style>\n<table border=\"1\" class=\"dataframe\">\n  <thead>\n    <tr style=\"text-align: right;\">\n      <th></th>\n      <th>Suburb</th>\n      <th>Address</th>\n      <th>Rooms</th>\n      <th>Type</th>\n      <th>Price</th>\n      <th>Method</th>\n      <th>SellerG</th>\n      <th>Date</th>\n      <th>Distance</th>\n      <th>Postcode</th>\n      <th>...</th>\n      <th>Bathroom</th>\n      <th>Car</th>\n      <th>Landsize</th>\n      <th>BuildingArea</th>\n      <th>YearBuilt</th>\n      <th>CouncilArea</th>\n      <th>Lattitude</th>\n      <th>Longtitude</th>\n      <th>Regionname</th>\n      <th>Propertycount</th>\n    </tr>\n  </thead>\n  <tbody>\n    <tr>\n      <th>0</th>\n      <td>Abbotsford</td>\n      <td>85 Turner St</td>\n      <td>2</td>\n      <td>h</td>\n      <td>1480000.0</td>\n      <td>S</td>\n      <td>Biggin</td>\n      <td>3/12/2016</td>\n      <td>2.5</td>\n      <td>3067.0</td>\n      <td>...</td>\n      <td>1.0</td>\n      <td>1.0</td>\n      <td>202.0</td>\n      <td>NaN</td>\n      <td>NaN</td>\n      <td>Yarra</td>\n      <td>-37.7996</td>\n      <td>144.9984</td>\n      <td>Northern Metropolitan</td>\n      <td>4019.0</td>\n    </tr>\n    <tr>\n      <th>1</th>\n      <td>Abbotsford</td>\n      <td>25 Bloomburg St</td>\n      <td>2</td>\n      <td>h</td>\n      <td>1035000.0</td>\n      <td>S</td>\n      <td>Biggin</td>\n      <td>4/02/2016</td>\n      <td>2.5</td>\n      <td>3067.0</td>\n      <td>...</td>\n      <td>1.0</td>\n      <td>0.0</td>\n      <td>156.0</td>\n      <td>79.0</td>\n      <td>1900.0</td>\n      <td>Yarra</td>\n      <td>-37.8079</td>\n      <td>144.9934</td>\n      <td>Northern Metropolitan</td>\n      <td>4019.0</td>\n    </tr>\n    <tr>\n      <th>2</th>\n      <td>Abbotsford</td>\n      <td>5 Charles St</td>\n      <td>3</td>\n      <td>h</td>\n      <td>1465000.0</td>\n      <td>SP</td>\n      <td>Biggin</td>\n      <td>4/03/2017</td>\n      <td>2.5</td>\n      <td>3067.0</td>\n      <td>...</td>\n      <td>2.0</td>\n      <td>0.0</td>\n      <td>134.0</td>\n      <td>150.0</td>\n      <td>1900.0</td>\n      <td>Yarra</td>\n      <td>-37.8093</td>\n      <td>144.9944</td>\n      <td>Northern Metropolitan</td>\n      <td>4019.0</td>\n    </tr>\n    <tr>\n      <th>3</th>\n      <td>Abbotsford</td>\n      <td>40 Federation La</td>\n      <td>3</td>\n      <td>h</td>\n      <td>850000.0</td>\n      <td>PI</td>\n      <td>Biggin</td>\n      <td>4/03/2017</td>\n      <td>2.5</td>\n      <td>3067.0</td>\n      <td>...</td>\n      <td>2.0</td>\n      <td>1.0</td>\n      <td>94.0</td>\n      <td>NaN</td>\n      <td>NaN</td>\n      <td>Yarra</td>\n      <td>-37.7969</td>\n      <td>144.9969</td>\n      <td>Northern Metropolitan</td>\n      <td>4019.0</td>\n    </tr>\n    <tr>\n      <th>4</th>\n      <td>Abbotsford</td>\n      <td>55a Park St</td>\n      <td>4</td>\n      <td>h</td>\n      <td>1600000.0</td>\n      <td>VB</td>\n      <td>Nelson</td>\n      <td>4/06/2016</td>\n      <td>2.5</td>\n      <td>3067.0</td>\n      <td>...</td>\n      <td>1.0</td>\n      <td>2.0</td>\n      <td>120.0</td>\n      <td>142.0</td>\n      <td>2014.0</td>\n      <td>Yarra</td>\n      <td>-37.8072</td>\n      <td>144.9941</td>\n      <td>Northern Metropolitan</td>\n      <td>4019.0</td>\n    </tr>\n  </tbody>\n</table>\n<p>5 rows × 21 columns</p>\n</div>"
     },
     "metadata": {},
     "execution_count": 15
    }
   ],
   "source": [
    "df.head()"
   ]
  },
  {
   "cell_type": "code",
   "execution_count": 16,
   "metadata": {},
   "outputs": [
    {
     "output_type": "execute_result",
     "data": {
      "text/plain": [
       "       Suburb             Address  Rooms Type      Price Method SellerG  \\\n",
       "0  Abbotsford        85 Turner St      2    h  1480000.0      S  Biggin   \n",
       "1  Abbotsford     25 Bloomburg St      2    h  1035000.0      S  Biggin   \n",
       "2  Abbotsford        5 Charles St      3    h  1465000.0     SP  Biggin   \n",
       "3  Abbotsford    40 Federation La      3    h   850000.0     PI  Biggin   \n",
       "4  Abbotsford         55a Park St      4    h  1600000.0     VB  Nelson   \n",
       "5  Abbotsford      129 Charles St      2    h   941000.0      S  Jellis   \n",
       "6  Abbotsford        124 Yarra St      3    h  1876000.0      S  Nelson   \n",
       "7  Abbotsford       98 Charles St      2    h  1636000.0      S  Nelson   \n",
       "8  Abbotsford  6/241 Nicholson St      1    u   300000.0      S  Biggin   \n",
       "9  Abbotsford       10 Valiant St      2    h  1097000.0      S  Biggin   \n",
       "\n",
       "        Date  Distance  Postcode  ...  Bathroom  Car  Landsize  BuildingArea  \\\n",
       "0  3/12/2016       2.5    3067.0  ...       1.0  1.0     202.0           NaN   \n",
       "1  4/02/2016       2.5    3067.0  ...       1.0  0.0     156.0          79.0   \n",
       "2  4/03/2017       2.5    3067.0  ...       2.0  0.0     134.0         150.0   \n",
       "3  4/03/2017       2.5    3067.0  ...       2.0  1.0      94.0           NaN   \n",
       "4  4/06/2016       2.5    3067.0  ...       1.0  2.0     120.0         142.0   \n",
       "5  7/05/2016       2.5    3067.0  ...       1.0  0.0     181.0           NaN   \n",
       "6  7/05/2016       2.5    3067.0  ...       2.0  0.0     245.0         210.0   \n",
       "7  8/10/2016       2.5    3067.0  ...       1.0  2.0     256.0         107.0   \n",
       "8  8/10/2016       2.5    3067.0  ...       1.0  1.0       0.0           NaN   \n",
       "9  8/10/2016       2.5    3067.0  ...       1.0  2.0     220.0          75.0   \n",
       "\n",
       "   YearBuilt  CouncilArea Lattitude  Longtitude             Regionname  \\\n",
       "0        NaN        Yarra  -37.7996    144.9984  Northern Metropolitan   \n",
       "1     1900.0        Yarra  -37.8079    144.9934  Northern Metropolitan   \n",
       "2     1900.0        Yarra  -37.8093    144.9944  Northern Metropolitan   \n",
       "3        NaN        Yarra  -37.7969    144.9969  Northern Metropolitan   \n",
       "4     2014.0        Yarra  -37.8072    144.9941  Northern Metropolitan   \n",
       "5        NaN        Yarra  -37.8041    144.9953  Northern Metropolitan   \n",
       "6     1910.0        Yarra  -37.8024    144.9993  Northern Metropolitan   \n",
       "7     1890.0        Yarra  -37.8060    144.9954  Northern Metropolitan   \n",
       "8        NaN        Yarra  -37.8008    144.9973  Northern Metropolitan   \n",
       "9     1900.0        Yarra  -37.8010    144.9989  Northern Metropolitan   \n",
       "\n",
       "  Propertycount  \n",
       "0        4019.0  \n",
       "1        4019.0  \n",
       "2        4019.0  \n",
       "3        4019.0  \n",
       "4        4019.0  \n",
       "5        4019.0  \n",
       "6        4019.0  \n",
       "7        4019.0  \n",
       "8        4019.0  \n",
       "9        4019.0  \n",
       "\n",
       "[10 rows x 21 columns]"
      ],
      "text/html": "<div>\n<style scoped>\n    .dataframe tbody tr th:only-of-type {\n        vertical-align: middle;\n    }\n\n    .dataframe tbody tr th {\n        vertical-align: top;\n    }\n\n    .dataframe thead th {\n        text-align: right;\n    }\n</style>\n<table border=\"1\" class=\"dataframe\">\n  <thead>\n    <tr style=\"text-align: right;\">\n      <th></th>\n      <th>Suburb</th>\n      <th>Address</th>\n      <th>Rooms</th>\n      <th>Type</th>\n      <th>Price</th>\n      <th>Method</th>\n      <th>SellerG</th>\n      <th>Date</th>\n      <th>Distance</th>\n      <th>Postcode</th>\n      <th>...</th>\n      <th>Bathroom</th>\n      <th>Car</th>\n      <th>Landsize</th>\n      <th>BuildingArea</th>\n      <th>YearBuilt</th>\n      <th>CouncilArea</th>\n      <th>Lattitude</th>\n      <th>Longtitude</th>\n      <th>Regionname</th>\n      <th>Propertycount</th>\n    </tr>\n  </thead>\n  <tbody>\n    <tr>\n      <th>0</th>\n      <td>Abbotsford</td>\n      <td>85 Turner St</td>\n      <td>2</td>\n      <td>h</td>\n      <td>1480000.0</td>\n      <td>S</td>\n      <td>Biggin</td>\n      <td>3/12/2016</td>\n      <td>2.5</td>\n      <td>3067.0</td>\n      <td>...</td>\n      <td>1.0</td>\n      <td>1.0</td>\n      <td>202.0</td>\n      <td>NaN</td>\n      <td>NaN</td>\n      <td>Yarra</td>\n      <td>-37.7996</td>\n      <td>144.9984</td>\n      <td>Northern Metropolitan</td>\n      <td>4019.0</td>\n    </tr>\n    <tr>\n      <th>1</th>\n      <td>Abbotsford</td>\n      <td>25 Bloomburg St</td>\n      <td>2</td>\n      <td>h</td>\n      <td>1035000.0</td>\n      <td>S</td>\n      <td>Biggin</td>\n      <td>4/02/2016</td>\n      <td>2.5</td>\n      <td>3067.0</td>\n      <td>...</td>\n      <td>1.0</td>\n      <td>0.0</td>\n      <td>156.0</td>\n      <td>79.0</td>\n      <td>1900.0</td>\n      <td>Yarra</td>\n      <td>-37.8079</td>\n      <td>144.9934</td>\n      <td>Northern Metropolitan</td>\n      <td>4019.0</td>\n    </tr>\n    <tr>\n      <th>2</th>\n      <td>Abbotsford</td>\n      <td>5 Charles St</td>\n      <td>3</td>\n      <td>h</td>\n      <td>1465000.0</td>\n      <td>SP</td>\n      <td>Biggin</td>\n      <td>4/03/2017</td>\n      <td>2.5</td>\n      <td>3067.0</td>\n      <td>...</td>\n      <td>2.0</td>\n      <td>0.0</td>\n      <td>134.0</td>\n      <td>150.0</td>\n      <td>1900.0</td>\n      <td>Yarra</td>\n      <td>-37.8093</td>\n      <td>144.9944</td>\n      <td>Northern Metropolitan</td>\n      <td>4019.0</td>\n    </tr>\n    <tr>\n      <th>3</th>\n      <td>Abbotsford</td>\n      <td>40 Federation La</td>\n      <td>3</td>\n      <td>h</td>\n      <td>850000.0</td>\n      <td>PI</td>\n      <td>Biggin</td>\n      <td>4/03/2017</td>\n      <td>2.5</td>\n      <td>3067.0</td>\n      <td>...</td>\n      <td>2.0</td>\n      <td>1.0</td>\n      <td>94.0</td>\n      <td>NaN</td>\n      <td>NaN</td>\n      <td>Yarra</td>\n      <td>-37.7969</td>\n      <td>144.9969</td>\n      <td>Northern Metropolitan</td>\n      <td>4019.0</td>\n    </tr>\n    <tr>\n      <th>4</th>\n      <td>Abbotsford</td>\n      <td>55a Park St</td>\n      <td>4</td>\n      <td>h</td>\n      <td>1600000.0</td>\n      <td>VB</td>\n      <td>Nelson</td>\n      <td>4/06/2016</td>\n      <td>2.5</td>\n      <td>3067.0</td>\n      <td>...</td>\n      <td>1.0</td>\n      <td>2.0</td>\n      <td>120.0</td>\n      <td>142.0</td>\n      <td>2014.0</td>\n      <td>Yarra</td>\n      <td>-37.8072</td>\n      <td>144.9941</td>\n      <td>Northern Metropolitan</td>\n      <td>4019.0</td>\n    </tr>\n    <tr>\n      <th>5</th>\n      <td>Abbotsford</td>\n      <td>129 Charles St</td>\n      <td>2</td>\n      <td>h</td>\n      <td>941000.0</td>\n      <td>S</td>\n      <td>Jellis</td>\n      <td>7/05/2016</td>\n      <td>2.5</td>\n      <td>3067.0</td>\n      <td>...</td>\n      <td>1.0</td>\n      <td>0.0</td>\n      <td>181.0</td>\n      <td>NaN</td>\n      <td>NaN</td>\n      <td>Yarra</td>\n      <td>-37.8041</td>\n      <td>144.9953</td>\n      <td>Northern Metropolitan</td>\n      <td>4019.0</td>\n    </tr>\n    <tr>\n      <th>6</th>\n      <td>Abbotsford</td>\n      <td>124 Yarra St</td>\n      <td>3</td>\n      <td>h</td>\n      <td>1876000.0</td>\n      <td>S</td>\n      <td>Nelson</td>\n      <td>7/05/2016</td>\n      <td>2.5</td>\n      <td>3067.0</td>\n      <td>...</td>\n      <td>2.0</td>\n      <td>0.0</td>\n      <td>245.0</td>\n      <td>210.0</td>\n      <td>1910.0</td>\n      <td>Yarra</td>\n      <td>-37.8024</td>\n      <td>144.9993</td>\n      <td>Northern Metropolitan</td>\n      <td>4019.0</td>\n    </tr>\n    <tr>\n      <th>7</th>\n      <td>Abbotsford</td>\n      <td>98 Charles St</td>\n      <td>2</td>\n      <td>h</td>\n      <td>1636000.0</td>\n      <td>S</td>\n      <td>Nelson</td>\n      <td>8/10/2016</td>\n      <td>2.5</td>\n      <td>3067.0</td>\n      <td>...</td>\n      <td>1.0</td>\n      <td>2.0</td>\n      <td>256.0</td>\n      <td>107.0</td>\n      <td>1890.0</td>\n      <td>Yarra</td>\n      <td>-37.8060</td>\n      <td>144.9954</td>\n      <td>Northern Metropolitan</td>\n      <td>4019.0</td>\n    </tr>\n    <tr>\n      <th>8</th>\n      <td>Abbotsford</td>\n      <td>6/241 Nicholson St</td>\n      <td>1</td>\n      <td>u</td>\n      <td>300000.0</td>\n      <td>S</td>\n      <td>Biggin</td>\n      <td>8/10/2016</td>\n      <td>2.5</td>\n      <td>3067.0</td>\n      <td>...</td>\n      <td>1.0</td>\n      <td>1.0</td>\n      <td>0.0</td>\n      <td>NaN</td>\n      <td>NaN</td>\n      <td>Yarra</td>\n      <td>-37.8008</td>\n      <td>144.9973</td>\n      <td>Northern Metropolitan</td>\n      <td>4019.0</td>\n    </tr>\n    <tr>\n      <th>9</th>\n      <td>Abbotsford</td>\n      <td>10 Valiant St</td>\n      <td>2</td>\n      <td>h</td>\n      <td>1097000.0</td>\n      <td>S</td>\n      <td>Biggin</td>\n      <td>8/10/2016</td>\n      <td>2.5</td>\n      <td>3067.0</td>\n      <td>...</td>\n      <td>1.0</td>\n      <td>2.0</td>\n      <td>220.0</td>\n      <td>75.0</td>\n      <td>1900.0</td>\n      <td>Yarra</td>\n      <td>-37.8010</td>\n      <td>144.9989</td>\n      <td>Northern Metropolitan</td>\n      <td>4019.0</td>\n    </tr>\n  </tbody>\n</table>\n<p>10 rows × 21 columns</p>\n</div>"
     },
     "metadata": {},
     "execution_count": 16
    }
   ],
   "source": [
    "df.head(10)"
   ]
  },
  {
   "cell_type": "code",
   "execution_count": 17,
   "metadata": {},
   "outputs": [
    {
     "output_type": "execute_result",
     "data": {
      "text/plain": [
       "              Suburb        Address  Rooms Type      Price Method   SellerG  \\\n",
       "13575  Wheelers Hill   12 Strada Cr      4    h  1245000.0      S     Barry   \n",
       "13576   Williamstown  77 Merrett Dr      3    h  1031000.0     SP  Williams   \n",
       "13577   Williamstown    83 Power St      3    h  1170000.0      S     Raine   \n",
       "13578   Williamstown   96 Verdon St      4    h  2500000.0     PI   Sweeney   \n",
       "13579     Yarraville     6 Agnes St      4    h  1285000.0     SP   Village   \n",
       "\n",
       "             Date  Distance  Postcode  ...  Bathroom  Car  Landsize  \\\n",
       "13575  26/08/2017      16.7    3150.0  ...       2.0  2.0     652.0   \n",
       "13576  26/08/2017       6.8    3016.0  ...       2.0  2.0     333.0   \n",
       "13577  26/08/2017       6.8    3016.0  ...       2.0  4.0     436.0   \n",
       "13578  26/08/2017       6.8    3016.0  ...       1.0  5.0     866.0   \n",
       "13579  26/08/2017       6.3    3013.0  ...       1.0  1.0     362.0   \n",
       "\n",
       "       BuildingArea  YearBuilt  CouncilArea Lattitude  Longtitude  \\\n",
       "13575           NaN     1981.0          NaN -37.90562   145.16761   \n",
       "13576         133.0     1995.0          NaN -37.85927   144.87904   \n",
       "13577           NaN     1997.0          NaN -37.85274   144.88738   \n",
       "13578         157.0     1920.0          NaN -37.85908   144.89299   \n",
       "13579         112.0     1920.0          NaN -37.81188   144.88449   \n",
       "\n",
       "                       Regionname Propertycount  \n",
       "13575  South-Eastern Metropolitan        7392.0  \n",
       "13576        Western Metropolitan        6380.0  \n",
       "13577        Western Metropolitan        6380.0  \n",
       "13578        Western Metropolitan        6380.0  \n",
       "13579        Western Metropolitan        6543.0  \n",
       "\n",
       "[5 rows x 21 columns]"
      ],
      "text/html": "<div>\n<style scoped>\n    .dataframe tbody tr th:only-of-type {\n        vertical-align: middle;\n    }\n\n    .dataframe tbody tr th {\n        vertical-align: top;\n    }\n\n    .dataframe thead th {\n        text-align: right;\n    }\n</style>\n<table border=\"1\" class=\"dataframe\">\n  <thead>\n    <tr style=\"text-align: right;\">\n      <th></th>\n      <th>Suburb</th>\n      <th>Address</th>\n      <th>Rooms</th>\n      <th>Type</th>\n      <th>Price</th>\n      <th>Method</th>\n      <th>SellerG</th>\n      <th>Date</th>\n      <th>Distance</th>\n      <th>Postcode</th>\n      <th>...</th>\n      <th>Bathroom</th>\n      <th>Car</th>\n      <th>Landsize</th>\n      <th>BuildingArea</th>\n      <th>YearBuilt</th>\n      <th>CouncilArea</th>\n      <th>Lattitude</th>\n      <th>Longtitude</th>\n      <th>Regionname</th>\n      <th>Propertycount</th>\n    </tr>\n  </thead>\n  <tbody>\n    <tr>\n      <th>13575</th>\n      <td>Wheelers Hill</td>\n      <td>12 Strada Cr</td>\n      <td>4</td>\n      <td>h</td>\n      <td>1245000.0</td>\n      <td>S</td>\n      <td>Barry</td>\n      <td>26/08/2017</td>\n      <td>16.7</td>\n      <td>3150.0</td>\n      <td>...</td>\n      <td>2.0</td>\n      <td>2.0</td>\n      <td>652.0</td>\n      <td>NaN</td>\n      <td>1981.0</td>\n      <td>NaN</td>\n      <td>-37.90562</td>\n      <td>145.16761</td>\n      <td>South-Eastern Metropolitan</td>\n      <td>7392.0</td>\n    </tr>\n    <tr>\n      <th>13576</th>\n      <td>Williamstown</td>\n      <td>77 Merrett Dr</td>\n      <td>3</td>\n      <td>h</td>\n      <td>1031000.0</td>\n      <td>SP</td>\n      <td>Williams</td>\n      <td>26/08/2017</td>\n      <td>6.8</td>\n      <td>3016.0</td>\n      <td>...</td>\n      <td>2.0</td>\n      <td>2.0</td>\n      <td>333.0</td>\n      <td>133.0</td>\n      <td>1995.0</td>\n      <td>NaN</td>\n      <td>-37.85927</td>\n      <td>144.87904</td>\n      <td>Western Metropolitan</td>\n      <td>6380.0</td>\n    </tr>\n    <tr>\n      <th>13577</th>\n      <td>Williamstown</td>\n      <td>83 Power St</td>\n      <td>3</td>\n      <td>h</td>\n      <td>1170000.0</td>\n      <td>S</td>\n      <td>Raine</td>\n      <td>26/08/2017</td>\n      <td>6.8</td>\n      <td>3016.0</td>\n      <td>...</td>\n      <td>2.0</td>\n      <td>4.0</td>\n      <td>436.0</td>\n      <td>NaN</td>\n      <td>1997.0</td>\n      <td>NaN</td>\n      <td>-37.85274</td>\n      <td>144.88738</td>\n      <td>Western Metropolitan</td>\n      <td>6380.0</td>\n    </tr>\n    <tr>\n      <th>13578</th>\n      <td>Williamstown</td>\n      <td>96 Verdon St</td>\n      <td>4</td>\n      <td>h</td>\n      <td>2500000.0</td>\n      <td>PI</td>\n      <td>Sweeney</td>\n      <td>26/08/2017</td>\n      <td>6.8</td>\n      <td>3016.0</td>\n      <td>...</td>\n      <td>1.0</td>\n      <td>5.0</td>\n      <td>866.0</td>\n      <td>157.0</td>\n      <td>1920.0</td>\n      <td>NaN</td>\n      <td>-37.85908</td>\n      <td>144.89299</td>\n      <td>Western Metropolitan</td>\n      <td>6380.0</td>\n    </tr>\n    <tr>\n      <th>13579</th>\n      <td>Yarraville</td>\n      <td>6 Agnes St</td>\n      <td>4</td>\n      <td>h</td>\n      <td>1285000.0</td>\n      <td>SP</td>\n      <td>Village</td>\n      <td>26/08/2017</td>\n      <td>6.3</td>\n      <td>3013.0</td>\n      <td>...</td>\n      <td>1.0</td>\n      <td>1.0</td>\n      <td>362.0</td>\n      <td>112.0</td>\n      <td>1920.0</td>\n      <td>NaN</td>\n      <td>-37.81188</td>\n      <td>144.88449</td>\n      <td>Western Metropolitan</td>\n      <td>6543.0</td>\n    </tr>\n  </tbody>\n</table>\n<p>5 rows × 21 columns</p>\n</div>"
     },
     "metadata": {},
     "execution_count": 17
    }
   ],
   "source": [
    "df.tail()"
   ]
  },
  {
   "cell_type": "code",
   "execution_count": 18,
   "metadata": {},
   "outputs": [
    {
     "output_type": "execute_result",
     "data": {
      "text/plain": [
       "               Suburb        Address  Rooms Type      Price Method  \\\n",
       "13570  Wantirna South  34 Fewster Dr      3    h   970000.0      S   \n",
       "13571  Wantirna South     15 Mara Cl      4    h  1330000.0      S   \n",
       "13572        Watsonia  76 Kenmare St      2    h   650000.0     PI   \n",
       "13573        Werribee    5 Nuragi Ct      4    h   635000.0      S   \n",
       "13574     Westmeadows     9 Black St      3    h   582000.0      S   \n",
       "13575   Wheelers Hill   12 Strada Cr      4    h  1245000.0      S   \n",
       "13576    Williamstown  77 Merrett Dr      3    h  1031000.0     SP   \n",
       "13577    Williamstown    83 Power St      3    h  1170000.0      S   \n",
       "13578    Williamstown   96 Verdon St      4    h  2500000.0     PI   \n",
       "13579      Yarraville     6 Agnes St      4    h  1285000.0     SP   \n",
       "\n",
       "             SellerG        Date  Distance  Postcode  ...  Bathroom  Car  \\\n",
       "13570          Barry  26/08/2017      14.7    3152.0  ...       2.0  2.0   \n",
       "13571          Barry  26/08/2017      14.7    3152.0  ...       2.0  2.0   \n",
       "13572       Morrison  26/08/2017      14.5    3087.0  ...       1.0  1.0   \n",
       "13573  hockingstuart  26/08/2017      14.7    3030.0  ...       2.0  1.0   \n",
       "13574            Red  26/08/2017      16.5    3049.0  ...       2.0  2.0   \n",
       "13575          Barry  26/08/2017      16.7    3150.0  ...       2.0  2.0   \n",
       "13576       Williams  26/08/2017       6.8    3016.0  ...       2.0  2.0   \n",
       "13577          Raine  26/08/2017       6.8    3016.0  ...       2.0  4.0   \n",
       "13578        Sweeney  26/08/2017       6.8    3016.0  ...       1.0  5.0   \n",
       "13579        Village  26/08/2017       6.3    3013.0  ...       1.0  1.0   \n",
       "\n",
       "       Landsize  BuildingArea  YearBuilt  CouncilArea Lattitude  Longtitude  \\\n",
       "13570     674.0           NaN        NaN          NaN -37.88360   145.22805   \n",
       "13571     717.0         191.0     1980.0          NaN -37.86887   145.22116   \n",
       "13572     210.0          79.0     2006.0          NaN -37.70657   145.07878   \n",
       "13573     662.0         172.0     1980.0          NaN -37.89327   144.64789   \n",
       "13574     256.0           NaN        NaN          NaN -37.67917   144.89390   \n",
       "13575     652.0           NaN     1981.0          NaN -37.90562   145.16761   \n",
       "13576     333.0         133.0     1995.0          NaN -37.85927   144.87904   \n",
       "13577     436.0           NaN     1997.0          NaN -37.85274   144.88738   \n",
       "13578     866.0         157.0     1920.0          NaN -37.85908   144.89299   \n",
       "13579     362.0         112.0     1920.0          NaN -37.81188   144.88449   \n",
       "\n",
       "                       Regionname Propertycount  \n",
       "13570        Eastern Metropolitan        7082.0  \n",
       "13571        Eastern Metropolitan        7082.0  \n",
       "13572       Northern Metropolitan        2329.0  \n",
       "13573        Western Metropolitan       16166.0  \n",
       "13574       Northern Metropolitan        2474.0  \n",
       "13575  South-Eastern Metropolitan        7392.0  \n",
       "13576        Western Metropolitan        6380.0  \n",
       "13577        Western Metropolitan        6380.0  \n",
       "13578        Western Metropolitan        6380.0  \n",
       "13579        Western Metropolitan        6543.0  \n",
       "\n",
       "[10 rows x 21 columns]"
      ],
      "text/html": "<div>\n<style scoped>\n    .dataframe tbody tr th:only-of-type {\n        vertical-align: middle;\n    }\n\n    .dataframe tbody tr th {\n        vertical-align: top;\n    }\n\n    .dataframe thead th {\n        text-align: right;\n    }\n</style>\n<table border=\"1\" class=\"dataframe\">\n  <thead>\n    <tr style=\"text-align: right;\">\n      <th></th>\n      <th>Suburb</th>\n      <th>Address</th>\n      <th>Rooms</th>\n      <th>Type</th>\n      <th>Price</th>\n      <th>Method</th>\n      <th>SellerG</th>\n      <th>Date</th>\n      <th>Distance</th>\n      <th>Postcode</th>\n      <th>...</th>\n      <th>Bathroom</th>\n      <th>Car</th>\n      <th>Landsize</th>\n      <th>BuildingArea</th>\n      <th>YearBuilt</th>\n      <th>CouncilArea</th>\n      <th>Lattitude</th>\n      <th>Longtitude</th>\n      <th>Regionname</th>\n      <th>Propertycount</th>\n    </tr>\n  </thead>\n  <tbody>\n    <tr>\n      <th>13570</th>\n      <td>Wantirna South</td>\n      <td>34 Fewster Dr</td>\n      <td>3</td>\n      <td>h</td>\n      <td>970000.0</td>\n      <td>S</td>\n      <td>Barry</td>\n      <td>26/08/2017</td>\n      <td>14.7</td>\n      <td>3152.0</td>\n      <td>...</td>\n      <td>2.0</td>\n      <td>2.0</td>\n      <td>674.0</td>\n      <td>NaN</td>\n      <td>NaN</td>\n      <td>NaN</td>\n      <td>-37.88360</td>\n      <td>145.22805</td>\n      <td>Eastern Metropolitan</td>\n      <td>7082.0</td>\n    </tr>\n    <tr>\n      <th>13571</th>\n      <td>Wantirna South</td>\n      <td>15 Mara Cl</td>\n      <td>4</td>\n      <td>h</td>\n      <td>1330000.0</td>\n      <td>S</td>\n      <td>Barry</td>\n      <td>26/08/2017</td>\n      <td>14.7</td>\n      <td>3152.0</td>\n      <td>...</td>\n      <td>2.0</td>\n      <td>2.0</td>\n      <td>717.0</td>\n      <td>191.0</td>\n      <td>1980.0</td>\n      <td>NaN</td>\n      <td>-37.86887</td>\n      <td>145.22116</td>\n      <td>Eastern Metropolitan</td>\n      <td>7082.0</td>\n    </tr>\n    <tr>\n      <th>13572</th>\n      <td>Watsonia</td>\n      <td>76 Kenmare St</td>\n      <td>2</td>\n      <td>h</td>\n      <td>650000.0</td>\n      <td>PI</td>\n      <td>Morrison</td>\n      <td>26/08/2017</td>\n      <td>14.5</td>\n      <td>3087.0</td>\n      <td>...</td>\n      <td>1.0</td>\n      <td>1.0</td>\n      <td>210.0</td>\n      <td>79.0</td>\n      <td>2006.0</td>\n      <td>NaN</td>\n      <td>-37.70657</td>\n      <td>145.07878</td>\n      <td>Northern Metropolitan</td>\n      <td>2329.0</td>\n    </tr>\n    <tr>\n      <th>13573</th>\n      <td>Werribee</td>\n      <td>5 Nuragi Ct</td>\n      <td>4</td>\n      <td>h</td>\n      <td>635000.0</td>\n      <td>S</td>\n      <td>hockingstuart</td>\n      <td>26/08/2017</td>\n      <td>14.7</td>\n      <td>3030.0</td>\n      <td>...</td>\n      <td>2.0</td>\n      <td>1.0</td>\n      <td>662.0</td>\n      <td>172.0</td>\n      <td>1980.0</td>\n      <td>NaN</td>\n      <td>-37.89327</td>\n      <td>144.64789</td>\n      <td>Western Metropolitan</td>\n      <td>16166.0</td>\n    </tr>\n    <tr>\n      <th>13574</th>\n      <td>Westmeadows</td>\n      <td>9 Black St</td>\n      <td>3</td>\n      <td>h</td>\n      <td>582000.0</td>\n      <td>S</td>\n      <td>Red</td>\n      <td>26/08/2017</td>\n      <td>16.5</td>\n      <td>3049.0</td>\n      <td>...</td>\n      <td>2.0</td>\n      <td>2.0</td>\n      <td>256.0</td>\n      <td>NaN</td>\n      <td>NaN</td>\n      <td>NaN</td>\n      <td>-37.67917</td>\n      <td>144.89390</td>\n      <td>Northern Metropolitan</td>\n      <td>2474.0</td>\n    </tr>\n    <tr>\n      <th>13575</th>\n      <td>Wheelers Hill</td>\n      <td>12 Strada Cr</td>\n      <td>4</td>\n      <td>h</td>\n      <td>1245000.0</td>\n      <td>S</td>\n      <td>Barry</td>\n      <td>26/08/2017</td>\n      <td>16.7</td>\n      <td>3150.0</td>\n      <td>...</td>\n      <td>2.0</td>\n      <td>2.0</td>\n      <td>652.0</td>\n      <td>NaN</td>\n      <td>1981.0</td>\n      <td>NaN</td>\n      <td>-37.90562</td>\n      <td>145.16761</td>\n      <td>South-Eastern Metropolitan</td>\n      <td>7392.0</td>\n    </tr>\n    <tr>\n      <th>13576</th>\n      <td>Williamstown</td>\n      <td>77 Merrett Dr</td>\n      <td>3</td>\n      <td>h</td>\n      <td>1031000.0</td>\n      <td>SP</td>\n      <td>Williams</td>\n      <td>26/08/2017</td>\n      <td>6.8</td>\n      <td>3016.0</td>\n      <td>...</td>\n      <td>2.0</td>\n      <td>2.0</td>\n      <td>333.0</td>\n      <td>133.0</td>\n      <td>1995.0</td>\n      <td>NaN</td>\n      <td>-37.85927</td>\n      <td>144.87904</td>\n      <td>Western Metropolitan</td>\n      <td>6380.0</td>\n    </tr>\n    <tr>\n      <th>13577</th>\n      <td>Williamstown</td>\n      <td>83 Power St</td>\n      <td>3</td>\n      <td>h</td>\n      <td>1170000.0</td>\n      <td>S</td>\n      <td>Raine</td>\n      <td>26/08/2017</td>\n      <td>6.8</td>\n      <td>3016.0</td>\n      <td>...</td>\n      <td>2.0</td>\n      <td>4.0</td>\n      <td>436.0</td>\n      <td>NaN</td>\n      <td>1997.0</td>\n      <td>NaN</td>\n      <td>-37.85274</td>\n      <td>144.88738</td>\n      <td>Western Metropolitan</td>\n      <td>6380.0</td>\n    </tr>\n    <tr>\n      <th>13578</th>\n      <td>Williamstown</td>\n      <td>96 Verdon St</td>\n      <td>4</td>\n      <td>h</td>\n      <td>2500000.0</td>\n      <td>PI</td>\n      <td>Sweeney</td>\n      <td>26/08/2017</td>\n      <td>6.8</td>\n      <td>3016.0</td>\n      <td>...</td>\n      <td>1.0</td>\n      <td>5.0</td>\n      <td>866.0</td>\n      <td>157.0</td>\n      <td>1920.0</td>\n      <td>NaN</td>\n      <td>-37.85908</td>\n      <td>144.89299</td>\n      <td>Western Metropolitan</td>\n      <td>6380.0</td>\n    </tr>\n    <tr>\n      <th>13579</th>\n      <td>Yarraville</td>\n      <td>6 Agnes St</td>\n      <td>4</td>\n      <td>h</td>\n      <td>1285000.0</td>\n      <td>SP</td>\n      <td>Village</td>\n      <td>26/08/2017</td>\n      <td>6.3</td>\n      <td>3013.0</td>\n      <td>...</td>\n      <td>1.0</td>\n      <td>1.0</td>\n      <td>362.0</td>\n      <td>112.0</td>\n      <td>1920.0</td>\n      <td>NaN</td>\n      <td>-37.81188</td>\n      <td>144.88449</td>\n      <td>Western Metropolitan</td>\n      <td>6543.0</td>\n    </tr>\n  </tbody>\n</table>\n<p>10 rows × 21 columns</p>\n</div>"
     },
     "metadata": {},
     "execution_count": 18
    }
   ],
   "source": [
    "df.tail(10)"
   ]
  },
  {
   "source": [
    "# Working wit missing data\n",
    "NaN and None are treated as equal and used interchangebly"
   ],
   "cell_type": "markdown",
   "metadata": {}
  },
  {
   "cell_type": "code",
   "execution_count": 19,
   "metadata": {},
   "outputs": [
    {
     "output_type": "execute_result",
     "data": {
      "text/plain": [
       "       Suburb  Address  Rooms   Type  Price  Method  SellerG   Date  Distance  \\\n",
       "0       False    False  False  False  False   False    False  False     False   \n",
       "1       False    False  False  False  False   False    False  False     False   \n",
       "2       False    False  False  False  False   False    False  False     False   \n",
       "3       False    False  False  False  False   False    False  False     False   \n",
       "4       False    False  False  False  False   False    False  False     False   \n",
       "...       ...      ...    ...    ...    ...     ...      ...    ...       ...   \n",
       "13575   False    False  False  False  False   False    False  False     False   \n",
       "13576   False    False  False  False  False   False    False  False     False   \n",
       "13577   False    False  False  False  False   False    False  False     False   \n",
       "13578   False    False  False  False  False   False    False  False     False   \n",
       "13579   False    False  False  False  False   False    False  False     False   \n",
       "\n",
       "       Postcode  ...  Bathroom    Car  Landsize  BuildingArea  YearBuilt  \\\n",
       "0         False  ...     False  False     False          True       True   \n",
       "1         False  ...     False  False     False         False      False   \n",
       "2         False  ...     False  False     False         False      False   \n",
       "3         False  ...     False  False     False          True       True   \n",
       "4         False  ...     False  False     False         False      False   \n",
       "...         ...  ...       ...    ...       ...           ...        ...   \n",
       "13575     False  ...     False  False     False          True      False   \n",
       "13576     False  ...     False  False     False         False      False   \n",
       "13577     False  ...     False  False     False          True      False   \n",
       "13578     False  ...     False  False     False         False      False   \n",
       "13579     False  ...     False  False     False         False      False   \n",
       "\n",
       "       CouncilArea  Lattitude  Longtitude  Regionname  Propertycount  \n",
       "0            False      False       False       False          False  \n",
       "1            False      False       False       False          False  \n",
       "2            False      False       False       False          False  \n",
       "3            False      False       False       False          False  \n",
       "4            False      False       False       False          False  \n",
       "...            ...        ...         ...         ...            ...  \n",
       "13575         True      False       False       False          False  \n",
       "13576         True      False       False       False          False  \n",
       "13577         True      False       False       False          False  \n",
       "13578         True      False       False       False          False  \n",
       "13579         True      False       False       False          False  \n",
       "\n",
       "[13580 rows x 21 columns]"
      ],
      "text/html": "<div>\n<style scoped>\n    .dataframe tbody tr th:only-of-type {\n        vertical-align: middle;\n    }\n\n    .dataframe tbody tr th {\n        vertical-align: top;\n    }\n\n    .dataframe thead th {\n        text-align: right;\n    }\n</style>\n<table border=\"1\" class=\"dataframe\">\n  <thead>\n    <tr style=\"text-align: right;\">\n      <th></th>\n      <th>Suburb</th>\n      <th>Address</th>\n      <th>Rooms</th>\n      <th>Type</th>\n      <th>Price</th>\n      <th>Method</th>\n      <th>SellerG</th>\n      <th>Date</th>\n      <th>Distance</th>\n      <th>Postcode</th>\n      <th>...</th>\n      <th>Bathroom</th>\n      <th>Car</th>\n      <th>Landsize</th>\n      <th>BuildingArea</th>\n      <th>YearBuilt</th>\n      <th>CouncilArea</th>\n      <th>Lattitude</th>\n      <th>Longtitude</th>\n      <th>Regionname</th>\n      <th>Propertycount</th>\n    </tr>\n  </thead>\n  <tbody>\n    <tr>\n      <th>0</th>\n      <td>False</td>\n      <td>False</td>\n      <td>False</td>\n      <td>False</td>\n      <td>False</td>\n      <td>False</td>\n      <td>False</td>\n      <td>False</td>\n      <td>False</td>\n      <td>False</td>\n      <td>...</td>\n      <td>False</td>\n      <td>False</td>\n      <td>False</td>\n      <td>True</td>\n      <td>True</td>\n      <td>False</td>\n      <td>False</td>\n      <td>False</td>\n      <td>False</td>\n      <td>False</td>\n    </tr>\n    <tr>\n      <th>1</th>\n      <td>False</td>\n      <td>False</td>\n      <td>False</td>\n      <td>False</td>\n      <td>False</td>\n      <td>False</td>\n      <td>False</td>\n      <td>False</td>\n      <td>False</td>\n      <td>False</td>\n      <td>...</td>\n      <td>False</td>\n      <td>False</td>\n      <td>False</td>\n      <td>False</td>\n      <td>False</td>\n      <td>False</td>\n      <td>False</td>\n      <td>False</td>\n      <td>False</td>\n      <td>False</td>\n    </tr>\n    <tr>\n      <th>2</th>\n      <td>False</td>\n      <td>False</td>\n      <td>False</td>\n      <td>False</td>\n      <td>False</td>\n      <td>False</td>\n      <td>False</td>\n      <td>False</td>\n      <td>False</td>\n      <td>False</td>\n      <td>...</td>\n      <td>False</td>\n      <td>False</td>\n      <td>False</td>\n      <td>False</td>\n      <td>False</td>\n      <td>False</td>\n      <td>False</td>\n      <td>False</td>\n      <td>False</td>\n      <td>False</td>\n    </tr>\n    <tr>\n      <th>3</th>\n      <td>False</td>\n      <td>False</td>\n      <td>False</td>\n      <td>False</td>\n      <td>False</td>\n      <td>False</td>\n      <td>False</td>\n      <td>False</td>\n      <td>False</td>\n      <td>False</td>\n      <td>...</td>\n      <td>False</td>\n      <td>False</td>\n      <td>False</td>\n      <td>True</td>\n      <td>True</td>\n      <td>False</td>\n      <td>False</td>\n      <td>False</td>\n      <td>False</td>\n      <td>False</td>\n    </tr>\n    <tr>\n      <th>4</th>\n      <td>False</td>\n      <td>False</td>\n      <td>False</td>\n      <td>False</td>\n      <td>False</td>\n      <td>False</td>\n      <td>False</td>\n      <td>False</td>\n      <td>False</td>\n      <td>False</td>\n      <td>...</td>\n      <td>False</td>\n      <td>False</td>\n      <td>False</td>\n      <td>False</td>\n      <td>False</td>\n      <td>False</td>\n      <td>False</td>\n      <td>False</td>\n      <td>False</td>\n      <td>False</td>\n    </tr>\n    <tr>\n      <th>5</th>\n      <td>False</td>\n      <td>False</td>\n      <td>False</td>\n      <td>False</td>\n      <td>False</td>\n      <td>False</td>\n      <td>False</td>\n      <td>False</td>\n      <td>False</td>\n      <td>False</td>\n      <td>...</td>\n      <td>False</td>\n      <td>False</td>\n      <td>False</td>\n      <td>True</td>\n      <td>True</td>\n      <td>False</td>\n      <td>False</td>\n      <td>False</td>\n      <td>False</td>\n      <td>False</td>\n    </tr>\n    <tr>\n      <th>6</th>\n      <td>False</td>\n      <td>False</td>\n      <td>False</td>\n      <td>False</td>\n      <td>False</td>\n      <td>False</td>\n      <td>False</td>\n      <td>False</td>\n      <td>False</td>\n      <td>False</td>\n      <td>...</td>\n      <td>False</td>\n      <td>False</td>\n      <td>False</td>\n      <td>False</td>\n      <td>False</td>\n      <td>False</td>\n      <td>False</td>\n      <td>False</td>\n      <td>False</td>\n      <td>False</td>\n    </tr>\n    <tr>\n      <th>7</th>\n      <td>False</td>\n      <td>False</td>\n      <td>False</td>\n      <td>False</td>\n      <td>False</td>\n      <td>False</td>\n      <td>False</td>\n      <td>False</td>\n      <td>False</td>\n      <td>False</td>\n      <td>...</td>\n      <td>False</td>\n      <td>False</td>\n      <td>False</td>\n      <td>False</td>\n      <td>False</td>\n      <td>False</td>\n      <td>False</td>\n      <td>False</td>\n      <td>False</td>\n      <td>False</td>\n    </tr>\n    <tr>\n      <th>8</th>\n      <td>False</td>\n      <td>False</td>\n      <td>False</td>\n      <td>False</td>\n      <td>False</td>\n      <td>False</td>\n      <td>False</td>\n      <td>False</td>\n      <td>False</td>\n      <td>False</td>\n      <td>...</td>\n      <td>False</td>\n      <td>False</td>\n      <td>False</td>\n      <td>True</td>\n      <td>True</td>\n      <td>False</td>\n      <td>False</td>\n      <td>False</td>\n      <td>False</td>\n      <td>False</td>\n    </tr>\n    <tr>\n      <th>9</th>\n      <td>False</td>\n      <td>False</td>\n      <td>False</td>\n      <td>False</td>\n      <td>False</td>\n      <td>False</td>\n      <td>False</td>\n      <td>False</td>\n      <td>False</td>\n      <td>False</td>\n      <td>...</td>\n      <td>False</td>\n      <td>False</td>\n      <td>False</td>\n      <td>False</td>\n      <td>False</td>\n      <td>False</td>\n      <td>False</td>\n      <td>False</td>\n      <td>False</td>\n      <td>False</td>\n    </tr>\n    <tr>\n      <th>10</th>\n      <td>False</td>\n      <td>False</td>\n      <td>False</td>\n      <td>False</td>\n      <td>False</td>\n      <td>False</td>\n      <td>False</td>\n      <td>False</td>\n      <td>False</td>\n      <td>False</td>\n      <td>...</td>\n      <td>False</td>\n      <td>False</td>\n      <td>False</td>\n      <td>True</td>\n      <td>True</td>\n      <td>False</td>\n      <td>False</td>\n      <td>False</td>\n      <td>False</td>\n      <td>False</td>\n    </tr>\n    <tr>\n      <th>11</th>\n      <td>False</td>\n      <td>False</td>\n      <td>False</td>\n      <td>False</td>\n      <td>False</td>\n      <td>False</td>\n      <td>False</td>\n      <td>False</td>\n      <td>False</td>\n      <td>False</td>\n      <td>...</td>\n      <td>False</td>\n      <td>False</td>\n      <td>False</td>\n      <td>False</td>\n      <td>False</td>\n      <td>False</td>\n      <td>False</td>\n      <td>False</td>\n      <td>False</td>\n      <td>False</td>\n    </tr>\n    <tr>\n      <th>12</th>\n      <td>False</td>\n      <td>False</td>\n      <td>False</td>\n      <td>False</td>\n      <td>False</td>\n      <td>False</td>\n      <td>False</td>\n      <td>False</td>\n      <td>False</td>\n      <td>False</td>\n      <td>...</td>\n      <td>False</td>\n      <td>False</td>\n      <td>False</td>\n      <td>False</td>\n      <td>False</td>\n      <td>False</td>\n      <td>False</td>\n      <td>False</td>\n      <td>False</td>\n      <td>False</td>\n    </tr>\n    <tr>\n      <th>13</th>\n      <td>False</td>\n      <td>False</td>\n      <td>False</td>\n      <td>False</td>\n      <td>False</td>\n      <td>False</td>\n      <td>False</td>\n      <td>False</td>\n      <td>False</td>\n      <td>False</td>\n      <td>...</td>\n      <td>False</td>\n      <td>False</td>\n      <td>False</td>\n      <td>True</td>\n      <td>True</td>\n      <td>False</td>\n      <td>False</td>\n      <td>False</td>\n      <td>False</td>\n      <td>False</td>\n    </tr>\n    <tr>\n      <th>14</th>\n      <td>False</td>\n      <td>False</td>\n      <td>False</td>\n      <td>False</td>\n      <td>False</td>\n      <td>False</td>\n      <td>False</td>\n      <td>False</td>\n      <td>False</td>\n      <td>False</td>\n      <td>...</td>\n      <td>False</td>\n      <td>False</td>\n      <td>False</td>\n      <td>True</td>\n      <td>True</td>\n      <td>False</td>\n      <td>False</td>\n      <td>False</td>\n      <td>False</td>\n      <td>False</td>\n    </tr>\n    <tr>\n      <th>15</th>\n      <td>False</td>\n      <td>False</td>\n      <td>False</td>\n      <td>False</td>\n      <td>False</td>\n      <td>False</td>\n      <td>False</td>\n      <td>False</td>\n      <td>False</td>\n      <td>False</td>\n      <td>...</td>\n      <td>False</td>\n      <td>False</td>\n      <td>False</td>\n      <td>False</td>\n      <td>False</td>\n      <td>False</td>\n      <td>False</td>\n      <td>False</td>\n      <td>False</td>\n      <td>False</td>\n    </tr>\n    <tr>\n      <th>16</th>\n      <td>False</td>\n      <td>False</td>\n      <td>False</td>\n      <td>False</td>\n      <td>False</td>\n      <td>False</td>\n      <td>False</td>\n      <td>False</td>\n      <td>False</td>\n      <td>False</td>\n      <td>...</td>\n      <td>False</td>\n      <td>False</td>\n      <td>False</td>\n      <td>False</td>\n      <td>False</td>\n      <td>False</td>\n      <td>False</td>\n      <td>False</td>\n      <td>False</td>\n      <td>False</td>\n    </tr>\n    <tr>\n      <th>17</th>\n      <td>False</td>\n      <td>False</td>\n      <td>False</td>\n      <td>False</td>\n      <td>False</td>\n      <td>False</td>\n      <td>False</td>\n      <td>False</td>\n      <td>False</td>\n      <td>False</td>\n      <td>...</td>\n      <td>False</td>\n      <td>False</td>\n      <td>False</td>\n      <td>False</td>\n      <td>False</td>\n      <td>False</td>\n      <td>False</td>\n      <td>False</td>\n      <td>False</td>\n      <td>False</td>\n    </tr>\n    <tr>\n      <th>18</th>\n      <td>False</td>\n      <td>False</td>\n      <td>False</td>\n      <td>False</td>\n      <td>False</td>\n      <td>False</td>\n      <td>False</td>\n      <td>False</td>\n      <td>False</td>\n      <td>False</td>\n      <td>...</td>\n      <td>False</td>\n      <td>False</td>\n      <td>False</td>\n      <td>True</td>\n      <td>True</td>\n      <td>False</td>\n      <td>False</td>\n      <td>False</td>\n      <td>False</td>\n      <td>False</td>\n    </tr>\n    <tr>\n      <th>19</th>\n      <td>False</td>\n      <td>False</td>\n      <td>False</td>\n      <td>False</td>\n      <td>False</td>\n      <td>False</td>\n      <td>False</td>\n      <td>False</td>\n      <td>False</td>\n      <td>False</td>\n      <td>...</td>\n      <td>False</td>\n      <td>False</td>\n      <td>False</td>\n      <td>False</td>\n      <td>False</td>\n      <td>False</td>\n      <td>False</td>\n      <td>False</td>\n      <td>False</td>\n      <td>False</td>\n    </tr>\n    <tr>\n      <th>20</th>\n      <td>False</td>\n      <td>False</td>\n      <td>False</td>\n      <td>False</td>\n      <td>False</td>\n      <td>False</td>\n      <td>False</td>\n      <td>False</td>\n      <td>False</td>\n      <td>False</td>\n      <td>...</td>\n      <td>False</td>\n      <td>False</td>\n      <td>False</td>\n      <td>False</td>\n      <td>False</td>\n      <td>False</td>\n      <td>False</td>\n      <td>False</td>\n      <td>False</td>\n      <td>False</td>\n    </tr>\n    <tr>\n      <th>21</th>\n      <td>False</td>\n      <td>False</td>\n      <td>False</td>\n      <td>False</td>\n      <td>False</td>\n      <td>False</td>\n      <td>False</td>\n      <td>False</td>\n      <td>False</td>\n      <td>False</td>\n      <td>...</td>\n      <td>False</td>\n      <td>False</td>\n      <td>False</td>\n      <td>True</td>\n      <td>False</td>\n      <td>False</td>\n      <td>False</td>\n      <td>False</td>\n      <td>False</td>\n      <td>False</td>\n    </tr>\n    <tr>\n      <th>22</th>\n      <td>False</td>\n      <td>False</td>\n      <td>False</td>\n      <td>False</td>\n      <td>False</td>\n      <td>False</td>\n      <td>False</td>\n      <td>False</td>\n      <td>False</td>\n      <td>False</td>\n      <td>...</td>\n      <td>False</td>\n      <td>False</td>\n      <td>False</td>\n      <td>False</td>\n      <td>True</td>\n      <td>False</td>\n      <td>False</td>\n      <td>False</td>\n      <td>False</td>\n      <td>False</td>\n    </tr>\n    <tr>\n      <th>23</th>\n      <td>False</td>\n      <td>False</td>\n      <td>False</td>\n      <td>False</td>\n      <td>False</td>\n      <td>False</td>\n      <td>False</td>\n      <td>False</td>\n      <td>False</td>\n      <td>False</td>\n      <td>...</td>\n      <td>False</td>\n      <td>False</td>\n      <td>False</td>\n      <td>False</td>\n      <td>False</td>\n      <td>False</td>\n      <td>False</td>\n      <td>False</td>\n      <td>False</td>\n      <td>False</td>\n    </tr>\n    <tr>\n      <th>24</th>\n      <td>False</td>\n      <td>False</td>\n      <td>False</td>\n      <td>False</td>\n      <td>False</td>\n      <td>False</td>\n      <td>False</td>\n      <td>False</td>\n      <td>False</td>\n      <td>False</td>\n      <td>...</td>\n      <td>False</td>\n      <td>False</td>\n      <td>False</td>\n      <td>False</td>\n      <td>False</td>\n      <td>False</td>\n      <td>False</td>\n      <td>False</td>\n      <td>False</td>\n      <td>False</td>\n    </tr>\n    <tr>\n      <th>25</th>\n      <td>False</td>\n      <td>False</td>\n      <td>False</td>\n      <td>False</td>\n      <td>False</td>\n      <td>False</td>\n      <td>False</td>\n      <td>False</td>\n      <td>False</td>\n      <td>False</td>\n      <td>...</td>\n      <td>False</td>\n      <td>False</td>\n      <td>False</td>\n      <td>False</td>\n      <td>False</td>\n      <td>False</td>\n      <td>False</td>\n      <td>False</td>\n      <td>False</td>\n      <td>False</td>\n    </tr>\n    <tr>\n      <th>26</th>\n      <td>False</td>\n      <td>False</td>\n      <td>False</td>\n      <td>False</td>\n      <td>False</td>\n      <td>False</td>\n      <td>False</td>\n      <td>False</td>\n      <td>False</td>\n      <td>False</td>\n      <td>...</td>\n      <td>False</td>\n      <td>False</td>\n      <td>False</td>\n      <td>True</td>\n      <td>True</td>\n      <td>False</td>\n      <td>False</td>\n      <td>False</td>\n      <td>False</td>\n      <td>False</td>\n    </tr>\n    <tr>\n      <th>27</th>\n      <td>False</td>\n      <td>False</td>\n      <td>False</td>\n      <td>False</td>\n      <td>False</td>\n      <td>False</td>\n      <td>False</td>\n      <td>False</td>\n      <td>False</td>\n      <td>False</td>\n      <td>...</td>\n      <td>False</td>\n      <td>False</td>\n      <td>False</td>\n      <td>False</td>\n      <td>False</td>\n      <td>False</td>\n      <td>False</td>\n      <td>False</td>\n      <td>False</td>\n      <td>False</td>\n    </tr>\n    <tr>\n      <th>28</th>\n      <td>False</td>\n      <td>False</td>\n      <td>False</td>\n      <td>False</td>\n      <td>False</td>\n      <td>False</td>\n      <td>False</td>\n      <td>False</td>\n      <td>False</td>\n      <td>False</td>\n      <td>...</td>\n      <td>False</td>\n      <td>False</td>\n      <td>False</td>\n      <td>False</td>\n      <td>True</td>\n      <td>False</td>\n      <td>False</td>\n      <td>False</td>\n      <td>False</td>\n      <td>False</td>\n    </tr>\n    <tr>\n      <th>29</th>\n      <td>False</td>\n      <td>False</td>\n      <td>False</td>\n      <td>False</td>\n      <td>False</td>\n      <td>False</td>\n      <td>False</td>\n      <td>False</td>\n      <td>False</td>\n      <td>False</td>\n      <td>...</td>\n      <td>False</td>\n      <td>False</td>\n      <td>False</td>\n      <td>False</td>\n      <td>False</td>\n      <td>False</td>\n      <td>False</td>\n      <td>False</td>\n      <td>False</td>\n      <td>False</td>\n    </tr>\n    <tr>\n      <th>...</th>\n      <td>...</td>\n      <td>...</td>\n      <td>...</td>\n      <td>...</td>\n      <td>...</td>\n      <td>...</td>\n      <td>...</td>\n      <td>...</td>\n      <td>...</td>\n      <td>...</td>\n      <td>...</td>\n      <td>...</td>\n      <td>...</td>\n      <td>...</td>\n      <td>...</td>\n      <td>...</td>\n      <td>...</td>\n      <td>...</td>\n      <td>...</td>\n      <td>...</td>\n      <td>...</td>\n    </tr>\n    <tr>\n      <th>13550</th>\n      <td>False</td>\n      <td>False</td>\n      <td>False</td>\n      <td>False</td>\n      <td>False</td>\n      <td>False</td>\n      <td>False</td>\n      <td>False</td>\n      <td>False</td>\n      <td>False</td>\n      <td>...</td>\n      <td>False</td>\n      <td>True</td>\n      <td>False</td>\n      <td>True</td>\n      <td>True</td>\n      <td>True</td>\n      <td>False</td>\n      <td>False</td>\n      <td>False</td>\n      <td>False</td>\n    </tr>\n    <tr>\n      <th>13551</th>\n      <td>False</td>\n      <td>False</td>\n      <td>False</td>\n      <td>False</td>\n      <td>False</td>\n      <td>False</td>\n      <td>False</td>\n      <td>False</td>\n      <td>False</td>\n      <td>False</td>\n      <td>...</td>\n      <td>False</td>\n      <td>False</td>\n      <td>False</td>\n      <td>True</td>\n      <td>False</td>\n      <td>True</td>\n      <td>False</td>\n      <td>False</td>\n      <td>False</td>\n      <td>False</td>\n    </tr>\n    <tr>\n      <th>13552</th>\n      <td>False</td>\n      <td>False</td>\n      <td>False</td>\n      <td>False</td>\n      <td>False</td>\n      <td>False</td>\n      <td>False</td>\n      <td>False</td>\n      <td>False</td>\n      <td>False</td>\n      <td>...</td>\n      <td>False</td>\n      <td>False</td>\n      <td>False</td>\n      <td>True</td>\n      <td>True</td>\n      <td>True</td>\n      <td>False</td>\n      <td>False</td>\n      <td>False</td>\n      <td>False</td>\n    </tr>\n    <tr>\n      <th>13553</th>\n      <td>False</td>\n      <td>False</td>\n      <td>False</td>\n      <td>False</td>\n      <td>False</td>\n      <td>False</td>\n      <td>False</td>\n      <td>False</td>\n      <td>False</td>\n      <td>False</td>\n      <td>...</td>\n      <td>False</td>\n      <td>False</td>\n      <td>False</td>\n      <td>True</td>\n      <td>False</td>\n      <td>True</td>\n      <td>False</td>\n      <td>False</td>\n      <td>False</td>\n      <td>False</td>\n    </tr>\n    <tr>\n      <th>13554</th>\n      <td>False</td>\n      <td>False</td>\n      <td>False</td>\n      <td>False</td>\n      <td>False</td>\n      <td>False</td>\n      <td>False</td>\n      <td>False</td>\n      <td>False</td>\n      <td>False</td>\n      <td>...</td>\n      <td>False</td>\n      <td>False</td>\n      <td>False</td>\n      <td>False</td>\n      <td>False</td>\n      <td>True</td>\n      <td>False</td>\n      <td>False</td>\n      <td>False</td>\n      <td>False</td>\n    </tr>\n    <tr>\n      <th>13555</th>\n      <td>False</td>\n      <td>False</td>\n      <td>False</td>\n      <td>False</td>\n      <td>False</td>\n      <td>False</td>\n      <td>False</td>\n      <td>False</td>\n      <td>False</td>\n      <td>False</td>\n      <td>...</td>\n      <td>False</td>\n      <td>False</td>\n      <td>False</td>\n      <td>True</td>\n      <td>True</td>\n      <td>True</td>\n      <td>False</td>\n      <td>False</td>\n      <td>False</td>\n      <td>False</td>\n    </tr>\n    <tr>\n      <th>13556</th>\n      <td>False</td>\n      <td>False</td>\n      <td>False</td>\n      <td>False</td>\n      <td>False</td>\n      <td>False</td>\n      <td>False</td>\n      <td>False</td>\n      <td>False</td>\n      <td>False</td>\n      <td>...</td>\n      <td>False</td>\n      <td>False</td>\n      <td>False</td>\n      <td>False</td>\n      <td>False</td>\n      <td>True</td>\n      <td>False</td>\n      <td>False</td>\n      <td>False</td>\n      <td>False</td>\n    </tr>\n    <tr>\n      <th>13557</th>\n      <td>False</td>\n      <td>False</td>\n      <td>False</td>\n      <td>False</td>\n      <td>False</td>\n      <td>False</td>\n      <td>False</td>\n      <td>False</td>\n      <td>False</td>\n      <td>False</td>\n      <td>...</td>\n      <td>False</td>\n      <td>False</td>\n      <td>False</td>\n      <td>True</td>\n      <td>False</td>\n      <td>True</td>\n      <td>False</td>\n      <td>False</td>\n      <td>False</td>\n      <td>False</td>\n    </tr>\n    <tr>\n      <th>13558</th>\n      <td>False</td>\n      <td>False</td>\n      <td>False</td>\n      <td>False</td>\n      <td>False</td>\n      <td>False</td>\n      <td>False</td>\n      <td>False</td>\n      <td>False</td>\n      <td>False</td>\n      <td>...</td>\n      <td>False</td>\n      <td>False</td>\n      <td>False</td>\n      <td>True</td>\n      <td>True</td>\n      <td>True</td>\n      <td>False</td>\n      <td>False</td>\n      <td>False</td>\n      <td>False</td>\n    </tr>\n    <tr>\n      <th>13559</th>\n      <td>False</td>\n      <td>False</td>\n      <td>False</td>\n      <td>False</td>\n      <td>False</td>\n      <td>False</td>\n      <td>False</td>\n      <td>False</td>\n      <td>False</td>\n      <td>False</td>\n      <td>...</td>\n      <td>False</td>\n      <td>False</td>\n      <td>False</td>\n      <td>True</td>\n      <td>True</td>\n      <td>True</td>\n      <td>False</td>\n      <td>False</td>\n      <td>False</td>\n      <td>False</td>\n    </tr>\n    <tr>\n      <th>13560</th>\n      <td>False</td>\n      <td>False</td>\n      <td>False</td>\n      <td>False</td>\n      <td>False</td>\n      <td>False</td>\n      <td>False</td>\n      <td>False</td>\n      <td>False</td>\n      <td>False</td>\n      <td>...</td>\n      <td>False</td>\n      <td>False</td>\n      <td>False</td>\n      <td>False</td>\n      <td>False</td>\n      <td>True</td>\n      <td>False</td>\n      <td>False</td>\n      <td>False</td>\n      <td>False</td>\n    </tr>\n    <tr>\n      <th>13561</th>\n      <td>False</td>\n      <td>False</td>\n      <td>False</td>\n      <td>False</td>\n      <td>False</td>\n      <td>False</td>\n      <td>False</td>\n      <td>False</td>\n      <td>False</td>\n      <td>False</td>\n      <td>...</td>\n      <td>False</td>\n      <td>False</td>\n      <td>False</td>\n      <td>True</td>\n      <td>True</td>\n      <td>True</td>\n      <td>False</td>\n      <td>False</td>\n      <td>False</td>\n      <td>False</td>\n    </tr>\n    <tr>\n      <th>13562</th>\n      <td>False</td>\n      <td>False</td>\n      <td>False</td>\n      <td>False</td>\n      <td>False</td>\n      <td>False</td>\n      <td>False</td>\n      <td>False</td>\n      <td>False</td>\n      <td>False</td>\n      <td>...</td>\n      <td>False</td>\n      <td>False</td>\n      <td>False</td>\n      <td>True</td>\n      <td>True</td>\n      <td>True</td>\n      <td>False</td>\n      <td>False</td>\n      <td>False</td>\n      <td>False</td>\n    </tr>\n    <tr>\n      <th>13563</th>\n      <td>False</td>\n      <td>False</td>\n      <td>False</td>\n      <td>False</td>\n      <td>False</td>\n      <td>False</td>\n      <td>False</td>\n      <td>False</td>\n      <td>False</td>\n      <td>False</td>\n      <td>...</td>\n      <td>False</td>\n      <td>False</td>\n      <td>False</td>\n      <td>False</td>\n      <td>False</td>\n      <td>True</td>\n      <td>False</td>\n      <td>False</td>\n      <td>False</td>\n      <td>False</td>\n    </tr>\n    <tr>\n      <th>13564</th>\n      <td>False</td>\n      <td>False</td>\n      <td>False</td>\n      <td>False</td>\n      <td>False</td>\n      <td>False</td>\n      <td>False</td>\n      <td>False</td>\n      <td>False</td>\n      <td>False</td>\n      <td>...</td>\n      <td>False</td>\n      <td>False</td>\n      <td>False</td>\n      <td>False</td>\n      <td>False</td>\n      <td>True</td>\n      <td>False</td>\n      <td>False</td>\n      <td>False</td>\n      <td>False</td>\n    </tr>\n    <tr>\n      <th>13565</th>\n      <td>False</td>\n      <td>False</td>\n      <td>False</td>\n      <td>False</td>\n      <td>False</td>\n      <td>False</td>\n      <td>False</td>\n      <td>False</td>\n      <td>False</td>\n      <td>False</td>\n      <td>...</td>\n      <td>False</td>\n      <td>False</td>\n      <td>False</td>\n      <td>True</td>\n      <td>True</td>\n      <td>True</td>\n      <td>False</td>\n      <td>False</td>\n      <td>False</td>\n      <td>False</td>\n    </tr>\n    <tr>\n      <th>13566</th>\n      <td>False</td>\n      <td>False</td>\n      <td>False</td>\n      <td>False</td>\n      <td>False</td>\n      <td>False</td>\n      <td>False</td>\n      <td>False</td>\n      <td>False</td>\n      <td>False</td>\n      <td>...</td>\n      <td>False</td>\n      <td>False</td>\n      <td>False</td>\n      <td>True</td>\n      <td>True</td>\n      <td>True</td>\n      <td>False</td>\n      <td>False</td>\n      <td>False</td>\n      <td>False</td>\n    </tr>\n    <tr>\n      <th>13567</th>\n      <td>False</td>\n      <td>False</td>\n      <td>False</td>\n      <td>False</td>\n      <td>False</td>\n      <td>False</td>\n      <td>False</td>\n      <td>False</td>\n      <td>False</td>\n      <td>False</td>\n      <td>...</td>\n      <td>False</td>\n      <td>False</td>\n      <td>False</td>\n      <td>True</td>\n      <td>True</td>\n      <td>True</td>\n      <td>False</td>\n      <td>False</td>\n      <td>False</td>\n      <td>False</td>\n    </tr>\n    <tr>\n      <th>13568</th>\n      <td>False</td>\n      <td>False</td>\n      <td>False</td>\n      <td>False</td>\n      <td>False</td>\n      <td>False</td>\n      <td>False</td>\n      <td>False</td>\n      <td>False</td>\n      <td>False</td>\n      <td>...</td>\n      <td>False</td>\n      <td>False</td>\n      <td>False</td>\n      <td>False</td>\n      <td>False</td>\n      <td>True</td>\n      <td>False</td>\n      <td>False</td>\n      <td>False</td>\n      <td>False</td>\n    </tr>\n    <tr>\n      <th>13569</th>\n      <td>False</td>\n      <td>False</td>\n      <td>False</td>\n      <td>False</td>\n      <td>False</td>\n      <td>False</td>\n      <td>False</td>\n      <td>False</td>\n      <td>False</td>\n      <td>False</td>\n      <td>...</td>\n      <td>False</td>\n      <td>False</td>\n      <td>False</td>\n      <td>True</td>\n      <td>True</td>\n      <td>True</td>\n      <td>False</td>\n      <td>False</td>\n      <td>False</td>\n      <td>False</td>\n    </tr>\n    <tr>\n      <th>13570</th>\n      <td>False</td>\n      <td>False</td>\n      <td>False</td>\n      <td>False</td>\n      <td>False</td>\n      <td>False</td>\n      <td>False</td>\n      <td>False</td>\n      <td>False</td>\n      <td>False</td>\n      <td>...</td>\n      <td>False</td>\n      <td>False</td>\n      <td>False</td>\n      <td>True</td>\n      <td>True</td>\n      <td>True</td>\n      <td>False</td>\n      <td>False</td>\n      <td>False</td>\n      <td>False</td>\n    </tr>\n    <tr>\n      <th>13571</th>\n      <td>False</td>\n      <td>False</td>\n      <td>False</td>\n      <td>False</td>\n      <td>False</td>\n      <td>False</td>\n      <td>False</td>\n      <td>False</td>\n      <td>False</td>\n      <td>False</td>\n      <td>...</td>\n      <td>False</td>\n      <td>False</td>\n      <td>False</td>\n      <td>False</td>\n      <td>False</td>\n      <td>True</td>\n      <td>False</td>\n      <td>False</td>\n      <td>False</td>\n      <td>False</td>\n    </tr>\n    <tr>\n      <th>13572</th>\n      <td>False</td>\n      <td>False</td>\n      <td>False</td>\n      <td>False</td>\n      <td>False</td>\n      <td>False</td>\n      <td>False</td>\n      <td>False</td>\n      <td>False</td>\n      <td>False</td>\n      <td>...</td>\n      <td>False</td>\n      <td>False</td>\n      <td>False</td>\n      <td>False</td>\n      <td>False</td>\n      <td>True</td>\n      <td>False</td>\n      <td>False</td>\n      <td>False</td>\n      <td>False</td>\n    </tr>\n    <tr>\n      <th>13573</th>\n      <td>False</td>\n      <td>False</td>\n      <td>False</td>\n      <td>False</td>\n      <td>False</td>\n      <td>False</td>\n      <td>False</td>\n      <td>False</td>\n      <td>False</td>\n      <td>False</td>\n      <td>...</td>\n      <td>False</td>\n      <td>False</td>\n      <td>False</td>\n      <td>False</td>\n      <td>False</td>\n      <td>True</td>\n      <td>False</td>\n      <td>False</td>\n      <td>False</td>\n      <td>False</td>\n    </tr>\n    <tr>\n      <th>13574</th>\n      <td>False</td>\n      <td>False</td>\n      <td>False</td>\n      <td>False</td>\n      <td>False</td>\n      <td>False</td>\n      <td>False</td>\n      <td>False</td>\n      <td>False</td>\n      <td>False</td>\n      <td>...</td>\n      <td>False</td>\n      <td>False</td>\n      <td>False</td>\n      <td>True</td>\n      <td>True</td>\n      <td>True</td>\n      <td>False</td>\n      <td>False</td>\n      <td>False</td>\n      <td>False</td>\n    </tr>\n    <tr>\n      <th>13575</th>\n      <td>False</td>\n      <td>False</td>\n      <td>False</td>\n      <td>False</td>\n      <td>False</td>\n      <td>False</td>\n      <td>False</td>\n      <td>False</td>\n      <td>False</td>\n      <td>False</td>\n      <td>...</td>\n      <td>False</td>\n      <td>False</td>\n      <td>False</td>\n      <td>True</td>\n      <td>False</td>\n      <td>True</td>\n      <td>False</td>\n      <td>False</td>\n      <td>False</td>\n      <td>False</td>\n    </tr>\n    <tr>\n      <th>13576</th>\n      <td>False</td>\n      <td>False</td>\n      <td>False</td>\n      <td>False</td>\n      <td>False</td>\n      <td>False</td>\n      <td>False</td>\n      <td>False</td>\n      <td>False</td>\n      <td>False</td>\n      <td>...</td>\n      <td>False</td>\n      <td>False</td>\n      <td>False</td>\n      <td>False</td>\n      <td>False</td>\n      <td>True</td>\n      <td>False</td>\n      <td>False</td>\n      <td>False</td>\n      <td>False</td>\n    </tr>\n    <tr>\n      <th>13577</th>\n      <td>False</td>\n      <td>False</td>\n      <td>False</td>\n      <td>False</td>\n      <td>False</td>\n      <td>False</td>\n      <td>False</td>\n      <td>False</td>\n      <td>False</td>\n      <td>False</td>\n      <td>...</td>\n      <td>False</td>\n      <td>False</td>\n      <td>False</td>\n      <td>True</td>\n      <td>False</td>\n      <td>True</td>\n      <td>False</td>\n      <td>False</td>\n      <td>False</td>\n      <td>False</td>\n    </tr>\n    <tr>\n      <th>13578</th>\n      <td>False</td>\n      <td>False</td>\n      <td>False</td>\n      <td>False</td>\n      <td>False</td>\n      <td>False</td>\n      <td>False</td>\n      <td>False</td>\n      <td>False</td>\n      <td>False</td>\n      <td>...</td>\n      <td>False</td>\n      <td>False</td>\n      <td>False</td>\n      <td>False</td>\n      <td>False</td>\n      <td>True</td>\n      <td>False</td>\n      <td>False</td>\n      <td>False</td>\n      <td>False</td>\n    </tr>\n    <tr>\n      <th>13579</th>\n      <td>False</td>\n      <td>False</td>\n      <td>False</td>\n      <td>False</td>\n      <td>False</td>\n      <td>False</td>\n      <td>False</td>\n      <td>False</td>\n      <td>False</td>\n      <td>False</td>\n      <td>...</td>\n      <td>False</td>\n      <td>False</td>\n      <td>False</td>\n      <td>False</td>\n      <td>False</td>\n      <td>True</td>\n      <td>False</td>\n      <td>False</td>\n      <td>False</td>\n      <td>False</td>\n    </tr>\n  </tbody>\n</table>\n<p>13580 rows × 21 columns</p>\n</div>"
     },
     "metadata": {},
     "execution_count": 19
    }
   ],
   "source": [
    "df.isnull()"
   ]
  },
  {
   "cell_type": "code",
   "execution_count": 20,
   "metadata": {},
   "outputs": [
    {
     "output_type": "execute_result",
     "data": {
      "text/plain": [
       "Index(['Suburb', 'Address', 'Rooms', 'Type', 'Price', 'Method', 'SellerG',\n",
       "       'Date', 'Distance', 'Postcode', 'Bedroom2', 'Bathroom', 'Landsize',\n",
       "       'Lattitude', 'Longtitude', 'Regionname', 'Propertycount'],\n",
       "      dtype='object')"
      ]
     },
     "metadata": {},
     "execution_count": 20
    }
   ],
   "source": [
    "#drop along column\n",
    "dc = df.dropna(axis=1)\n",
    "dc.columns"
   ]
  },
  {
   "cell_type": "code",
   "execution_count": 21,
   "metadata": {},
   "outputs": [
    {
     "output_type": "execute_result",
     "data": {
      "text/plain": [
       "(13580, 17)"
      ]
     },
     "metadata": {},
     "execution_count": 21
    }
   ],
   "source": [
    "dc.shape"
   ]
  },
  {
   "cell_type": "code",
   "execution_count": 22,
   "metadata": {},
   "outputs": [
    {
     "output_type": "execute_result",
     "data": {
      "text/plain": [
       "Index(['Suburb', 'Address', 'Rooms', 'Type', 'Price', 'Method', 'SellerG',\n",
       "       'Date', 'Distance', 'Postcode', 'Bedroom2', 'Bathroom', 'Car',\n",
       "       'Landsize', 'BuildingArea', 'YearBuilt', 'CouncilArea', 'Lattitude',\n",
       "       'Longtitude', 'Regionname', 'Propertycount'],\n",
       "      dtype='object')"
      ]
     },
     "metadata": {},
     "execution_count": 22
    }
   ],
   "source": [
    "#drop along rows\n",
    "dr = df.dropna(axis=0)\n",
    "dr.columns"
   ]
  },
  {
   "cell_type": "code",
   "execution_count": 23,
   "metadata": {},
   "outputs": [
    {
     "output_type": "execute_result",
     "data": {
      "text/plain": [
       "(6196, 21)"
      ]
     },
     "metadata": {},
     "execution_count": 23
    }
   ],
   "source": [
    "dr.shape"
   ]
  },
  {
   "source": [
    "# Handeling Missing Data\n",
    "\n",
    "-> isnull(): Generate a boolean mask indicating missing values<br>\n",
    "-> notnull(): Opposite of isnull()<br>\n",
    "-> dropna(): Return a filtered version of the data<br>\n",
    "-> fillna(): Return a copy of the data with missing values filled or imputed.\n"
   ],
   "cell_type": "markdown",
   "metadata": {}
  },
  {
   "cell_type": "code",
   "execution_count": 24,
   "metadata": {},
   "outputs": [
    {
     "output_type": "execute_result",
     "data": {
      "text/plain": [
       "       CouncilArea\n",
       "0            Yarra\n",
       "1            Yarra\n",
       "2            Yarra\n",
       "3            Yarra\n",
       "4            Yarra\n",
       "...            ...\n",
       "13575  Maribyrnong\n",
       "13576  Maribyrnong\n",
       "13577  Maribyrnong\n",
       "13578  Maribyrnong\n",
       "13579  Maribyrnong\n",
       "\n",
       "[13580 rows x 1 columns]"
      ],
      "text/html": "<div>\n<style scoped>\n    .dataframe tbody tr th:only-of-type {\n        vertical-align: middle;\n    }\n\n    .dataframe tbody tr th {\n        vertical-align: top;\n    }\n\n    .dataframe thead th {\n        text-align: right;\n    }\n</style>\n<table border=\"1\" class=\"dataframe\">\n  <thead>\n    <tr style=\"text-align: right;\">\n      <th></th>\n      <th>CouncilArea</th>\n    </tr>\n  </thead>\n  <tbody>\n    <tr>\n      <th>0</th>\n      <td>Yarra</td>\n    </tr>\n    <tr>\n      <th>1</th>\n      <td>Yarra</td>\n    </tr>\n    <tr>\n      <th>2</th>\n      <td>Yarra</td>\n    </tr>\n    <tr>\n      <th>3</th>\n      <td>Yarra</td>\n    </tr>\n    <tr>\n      <th>4</th>\n      <td>Yarra</td>\n    </tr>\n    <tr>\n      <th>5</th>\n      <td>Yarra</td>\n    </tr>\n    <tr>\n      <th>6</th>\n      <td>Yarra</td>\n    </tr>\n    <tr>\n      <th>7</th>\n      <td>Yarra</td>\n    </tr>\n    <tr>\n      <th>8</th>\n      <td>Yarra</td>\n    </tr>\n    <tr>\n      <th>9</th>\n      <td>Yarra</td>\n    </tr>\n    <tr>\n      <th>10</th>\n      <td>Yarra</td>\n    </tr>\n    <tr>\n      <th>11</th>\n      <td>Yarra</td>\n    </tr>\n    <tr>\n      <th>12</th>\n      <td>Yarra</td>\n    </tr>\n    <tr>\n      <th>13</th>\n      <td>Yarra</td>\n    </tr>\n    <tr>\n      <th>14</th>\n      <td>Yarra</td>\n    </tr>\n    <tr>\n      <th>15</th>\n      <td>Yarra</td>\n    </tr>\n    <tr>\n      <th>16</th>\n      <td>Yarra</td>\n    </tr>\n    <tr>\n      <th>17</th>\n      <td>Yarra</td>\n    </tr>\n    <tr>\n      <th>18</th>\n      <td>Yarra</td>\n    </tr>\n    <tr>\n      <th>19</th>\n      <td>Yarra</td>\n    </tr>\n    <tr>\n      <th>20</th>\n      <td>Yarra</td>\n    </tr>\n    <tr>\n      <th>21</th>\n      <td>Yarra</td>\n    </tr>\n    <tr>\n      <th>22</th>\n      <td>Yarra</td>\n    </tr>\n    <tr>\n      <th>23</th>\n      <td>Yarra</td>\n    </tr>\n    <tr>\n      <th>24</th>\n      <td>Yarra</td>\n    </tr>\n    <tr>\n      <th>25</th>\n      <td>Yarra</td>\n    </tr>\n    <tr>\n      <th>26</th>\n      <td>Yarra</td>\n    </tr>\n    <tr>\n      <th>27</th>\n      <td>Yarra</td>\n    </tr>\n    <tr>\n      <th>28</th>\n      <td>Yarra</td>\n    </tr>\n    <tr>\n      <th>29</th>\n      <td>Yarra</td>\n    </tr>\n    <tr>\n      <th>...</th>\n      <td>...</td>\n    </tr>\n    <tr>\n      <th>13550</th>\n      <td>Maribyrnong</td>\n    </tr>\n    <tr>\n      <th>13551</th>\n      <td>Maribyrnong</td>\n    </tr>\n    <tr>\n      <th>13552</th>\n      <td>Maribyrnong</td>\n    </tr>\n    <tr>\n      <th>13553</th>\n      <td>Maribyrnong</td>\n    </tr>\n    <tr>\n      <th>13554</th>\n      <td>Maribyrnong</td>\n    </tr>\n    <tr>\n      <th>13555</th>\n      <td>Maribyrnong</td>\n    </tr>\n    <tr>\n      <th>13556</th>\n      <td>Maribyrnong</td>\n    </tr>\n    <tr>\n      <th>13557</th>\n      <td>Maribyrnong</td>\n    </tr>\n    <tr>\n      <th>13558</th>\n      <td>Maribyrnong</td>\n    </tr>\n    <tr>\n      <th>13559</th>\n      <td>Maribyrnong</td>\n    </tr>\n    <tr>\n      <th>13560</th>\n      <td>Maribyrnong</td>\n    </tr>\n    <tr>\n      <th>13561</th>\n      <td>Maribyrnong</td>\n    </tr>\n    <tr>\n      <th>13562</th>\n      <td>Maribyrnong</td>\n    </tr>\n    <tr>\n      <th>13563</th>\n      <td>Maribyrnong</td>\n    </tr>\n    <tr>\n      <th>13564</th>\n      <td>Maribyrnong</td>\n    </tr>\n    <tr>\n      <th>13565</th>\n      <td>Maribyrnong</td>\n    </tr>\n    <tr>\n      <th>13566</th>\n      <td>Maribyrnong</td>\n    </tr>\n    <tr>\n      <th>13567</th>\n      <td>Maribyrnong</td>\n    </tr>\n    <tr>\n      <th>13568</th>\n      <td>Maribyrnong</td>\n    </tr>\n    <tr>\n      <th>13569</th>\n      <td>Maribyrnong</td>\n    </tr>\n    <tr>\n      <th>13570</th>\n      <td>Maribyrnong</td>\n    </tr>\n    <tr>\n      <th>13571</th>\n      <td>Maribyrnong</td>\n    </tr>\n    <tr>\n      <th>13572</th>\n      <td>Maribyrnong</td>\n    </tr>\n    <tr>\n      <th>13573</th>\n      <td>Maribyrnong</td>\n    </tr>\n    <tr>\n      <th>13574</th>\n      <td>Maribyrnong</td>\n    </tr>\n    <tr>\n      <th>13575</th>\n      <td>Maribyrnong</td>\n    </tr>\n    <tr>\n      <th>13576</th>\n      <td>Maribyrnong</td>\n    </tr>\n    <tr>\n      <th>13577</th>\n      <td>Maribyrnong</td>\n    </tr>\n    <tr>\n      <th>13578</th>\n      <td>Maribyrnong</td>\n    </tr>\n    <tr>\n      <th>13579</th>\n      <td>Maribyrnong</td>\n    </tr>\n  </tbody>\n</table>\n<p>13580 rows × 1 columns</p>\n</div>"
     },
     "metadata": {},
     "execution_count": 24
    }
   ],
   "source": [
    "df1 = pd.DataFrame(df['CouncilArea'])\n",
    "df1.fillna(method = 'ffill')"
   ]
  },
  {
   "cell_type": "code",
   "execution_count": 25,
   "metadata": {},
   "outputs": [
    {
     "output_type": "execute_result",
     "data": {
      "text/plain": [
       "      CouncilArea\n",
       "0           Yarra\n",
       "1           Yarra\n",
       "2           Yarra\n",
       "3           Yarra\n",
       "4           Yarra\n",
       "...           ...\n",
       "13575         NaN\n",
       "13576         NaN\n",
       "13577         NaN\n",
       "13578         NaN\n",
       "13579         NaN\n",
       "\n",
       "[13580 rows x 1 columns]"
      ],
      "text/html": "<div>\n<style scoped>\n    .dataframe tbody tr th:only-of-type {\n        vertical-align: middle;\n    }\n\n    .dataframe tbody tr th {\n        vertical-align: top;\n    }\n\n    .dataframe thead th {\n        text-align: right;\n    }\n</style>\n<table border=\"1\" class=\"dataframe\">\n  <thead>\n    <tr style=\"text-align: right;\">\n      <th></th>\n      <th>CouncilArea</th>\n    </tr>\n  </thead>\n  <tbody>\n    <tr>\n      <th>0</th>\n      <td>Yarra</td>\n    </tr>\n    <tr>\n      <th>1</th>\n      <td>Yarra</td>\n    </tr>\n    <tr>\n      <th>2</th>\n      <td>Yarra</td>\n    </tr>\n    <tr>\n      <th>3</th>\n      <td>Yarra</td>\n    </tr>\n    <tr>\n      <th>4</th>\n      <td>Yarra</td>\n    </tr>\n    <tr>\n      <th>5</th>\n      <td>Yarra</td>\n    </tr>\n    <tr>\n      <th>6</th>\n      <td>Yarra</td>\n    </tr>\n    <tr>\n      <th>7</th>\n      <td>Yarra</td>\n    </tr>\n    <tr>\n      <th>8</th>\n      <td>Yarra</td>\n    </tr>\n    <tr>\n      <th>9</th>\n      <td>Yarra</td>\n    </tr>\n    <tr>\n      <th>10</th>\n      <td>Yarra</td>\n    </tr>\n    <tr>\n      <th>11</th>\n      <td>Yarra</td>\n    </tr>\n    <tr>\n      <th>12</th>\n      <td>Yarra</td>\n    </tr>\n    <tr>\n      <th>13</th>\n      <td>Yarra</td>\n    </tr>\n    <tr>\n      <th>14</th>\n      <td>Yarra</td>\n    </tr>\n    <tr>\n      <th>15</th>\n      <td>Yarra</td>\n    </tr>\n    <tr>\n      <th>16</th>\n      <td>Yarra</td>\n    </tr>\n    <tr>\n      <th>17</th>\n      <td>Yarra</td>\n    </tr>\n    <tr>\n      <th>18</th>\n      <td>Yarra</td>\n    </tr>\n    <tr>\n      <th>19</th>\n      <td>Yarra</td>\n    </tr>\n    <tr>\n      <th>20</th>\n      <td>Yarra</td>\n    </tr>\n    <tr>\n      <th>21</th>\n      <td>Yarra</td>\n    </tr>\n    <tr>\n      <th>22</th>\n      <td>Yarra</td>\n    </tr>\n    <tr>\n      <th>23</th>\n      <td>Yarra</td>\n    </tr>\n    <tr>\n      <th>24</th>\n      <td>Yarra</td>\n    </tr>\n    <tr>\n      <th>25</th>\n      <td>Yarra</td>\n    </tr>\n    <tr>\n      <th>26</th>\n      <td>Yarra</td>\n    </tr>\n    <tr>\n      <th>27</th>\n      <td>Yarra</td>\n    </tr>\n    <tr>\n      <th>28</th>\n      <td>Yarra</td>\n    </tr>\n    <tr>\n      <th>29</th>\n      <td>Yarra</td>\n    </tr>\n    <tr>\n      <th>...</th>\n      <td>...</td>\n    </tr>\n    <tr>\n      <th>13550</th>\n      <td>NaN</td>\n    </tr>\n    <tr>\n      <th>13551</th>\n      <td>NaN</td>\n    </tr>\n    <tr>\n      <th>13552</th>\n      <td>NaN</td>\n    </tr>\n    <tr>\n      <th>13553</th>\n      <td>NaN</td>\n    </tr>\n    <tr>\n      <th>13554</th>\n      <td>NaN</td>\n    </tr>\n    <tr>\n      <th>13555</th>\n      <td>NaN</td>\n    </tr>\n    <tr>\n      <th>13556</th>\n      <td>NaN</td>\n    </tr>\n    <tr>\n      <th>13557</th>\n      <td>NaN</td>\n    </tr>\n    <tr>\n      <th>13558</th>\n      <td>NaN</td>\n    </tr>\n    <tr>\n      <th>13559</th>\n      <td>NaN</td>\n    </tr>\n    <tr>\n      <th>13560</th>\n      <td>NaN</td>\n    </tr>\n    <tr>\n      <th>13561</th>\n      <td>NaN</td>\n    </tr>\n    <tr>\n      <th>13562</th>\n      <td>NaN</td>\n    </tr>\n    <tr>\n      <th>13563</th>\n      <td>NaN</td>\n    </tr>\n    <tr>\n      <th>13564</th>\n      <td>NaN</td>\n    </tr>\n    <tr>\n      <th>13565</th>\n      <td>NaN</td>\n    </tr>\n    <tr>\n      <th>13566</th>\n      <td>NaN</td>\n    </tr>\n    <tr>\n      <th>13567</th>\n      <td>NaN</td>\n    </tr>\n    <tr>\n      <th>13568</th>\n      <td>NaN</td>\n    </tr>\n    <tr>\n      <th>13569</th>\n      <td>NaN</td>\n    </tr>\n    <tr>\n      <th>13570</th>\n      <td>NaN</td>\n    </tr>\n    <tr>\n      <th>13571</th>\n      <td>NaN</td>\n    </tr>\n    <tr>\n      <th>13572</th>\n      <td>NaN</td>\n    </tr>\n    <tr>\n      <th>13573</th>\n      <td>NaN</td>\n    </tr>\n    <tr>\n      <th>13574</th>\n      <td>NaN</td>\n    </tr>\n    <tr>\n      <th>13575</th>\n      <td>NaN</td>\n    </tr>\n    <tr>\n      <th>13576</th>\n      <td>NaN</td>\n    </tr>\n    <tr>\n      <th>13577</th>\n      <td>NaN</td>\n    </tr>\n    <tr>\n      <th>13578</th>\n      <td>NaN</td>\n    </tr>\n    <tr>\n      <th>13579</th>\n      <td>NaN</td>\n    </tr>\n  </tbody>\n</table>\n<p>13580 rows × 1 columns</p>\n</div>"
     },
     "metadata": {},
     "execution_count": 25
    }
   ],
   "source": [
    "df1.fillna(method='bfill')"
   ]
  }
 ]
}